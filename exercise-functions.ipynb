{
 "cells": [
  {
   "cell_type": "markdown",
   "id": "8bdb9441",
   "metadata": {
    "papermill": {
     "duration": 0.007336,
     "end_time": "2023-07-11T07:04:31.347380",
     "exception": false,
     "start_time": "2023-07-11T07:04:31.340044",
     "status": "completed"
    },
    "tags": []
   },
   "source": [
    "**This notebook is an exercise in the [Intro to Programming](https://www.kaggle.com/learn/intro-to-programming) course.  You can reference the tutorial at [this link](https://www.kaggle.com/alexisbcook/functions).**\n",
    "\n",
    "---\n"
   ]
  },
  {
   "cell_type": "markdown",
   "id": "b13fd8c6",
   "metadata": {
    "papermill": {
     "duration": 0.007162,
     "end_time": "2023-07-11T07:04:31.363029",
     "exception": false,
     "start_time": "2023-07-11T07:04:31.355867",
     "status": "completed"
    },
    "tags": []
   },
   "source": [
    "In the tutorial, you learned about functions. In this exercise, you'll write some of your own!\n",
    "\n",
    "# Set up the notebook\n",
    "\n",
    "Run the next code cell without changes to set up the notebook."
   ]
  },
  {
   "cell_type": "code",
   "execution_count": 1,
   "id": "01530dea",
   "metadata": {
    "execution": {
     "iopub.execute_input": "2023-07-11T07:04:31.380580Z",
     "iopub.status.busy": "2023-07-11T07:04:31.380153Z",
     "iopub.status.idle": "2023-07-11T07:04:31.439158Z",
     "shell.execute_reply": "2023-07-11T07:04:31.437879Z"
    },
    "papermill": {
     "duration": 0.071111,
     "end_time": "2023-07-11T07:04:31.442341",
     "exception": false,
     "start_time": "2023-07-11T07:04:31.371230",
     "status": "completed"
    },
    "tags": []
   },
   "outputs": [
    {
     "name": "stdout",
     "output_type": "stream",
     "text": [
      "Setup complete.\n"
     ]
    }
   ],
   "source": [
    "# Set up the exercise\n",
    "import math\n",
    "from learntools.core import binder\n",
    "binder.bind(globals())\n",
    "from learntools.intro_to_programming.ex2 import *\n",
    "print('Setup complete.')"
   ]
  },
  {
   "cell_type": "markdown",
   "id": "e84450da",
   "metadata": {
    "papermill": {
     "duration": 0.007074,
     "end_time": "2023-07-11T07:04:31.456668",
     "exception": false,
     "start_time": "2023-07-11T07:04:31.449594",
     "status": "completed"
    },
    "tags": []
   },
   "source": [
    "# Question 1\n",
    "\n",
    "In the [House Prices - Advanced Regression Techniques competition](https://www.kaggle.com/c/house-prices-advanced-regression-techniques/overview), you need to use information like the number of bedrooms and bathrooms to predict the price of a house.  Inspired by this competition, you'll write your own function to do this.\n",
    "\n",
    "In the next code cell, create a function `get_expected_cost()` that has two arguments:\n",
    "- `beds` - number of bedrooms \n",
    "- `baths` - number of bathrooms\n",
    "\n",
    "It should return the expected cost of a house with that number of bedrooms and bathrooms.  Assume that:\n",
    "- the expected cost for a house with 0 bedrooms and 0 bathrooms is `80000`.  \n",
    "- each bedroom adds `30000` to the expected cost\n",
    "- each bathroom adds `10000` to the expected cost.\n",
    "\n",
    "For instance, \n",
    "- a house with 1 bedroom and 1 bathroom has an expected cost of `120000`, and \n",
    "- a house with 2 bedrooms and 1 bathroom has an expected cost of `150000`."
   ]
  },
  {
   "cell_type": "code",
   "execution_count": 2,
   "id": "526497f0",
   "metadata": {
    "execution": {
     "iopub.execute_input": "2023-07-11T07:04:31.473559Z",
     "iopub.status.busy": "2023-07-11T07:04:31.473150Z",
     "iopub.status.idle": "2023-07-11T07:04:31.486092Z",
     "shell.execute_reply": "2023-07-11T07:04:31.484885Z"
    },
    "papermill": {
     "duration": 0.024207,
     "end_time": "2023-07-11T07:04:31.488514",
     "exception": false,
     "start_time": "2023-07-11T07:04:31.464307",
     "status": "completed"
    },
    "tags": []
   },
   "outputs": [
    {
     "data": {
      "application/javascript": [
       "parent.postMessage({\"jupyterEvent\": \"custom.exercise_interaction\", \"data\": {\"outcomeType\": 1, \"valueTowardsCompletion\": 0.2, \"interactionType\": 1, \"questionType\": 2, \"questionId\": \"1_GetExpectedCost\", \"learnToolsVersion\": \"0.3.4\", \"failureMessage\": \"\", \"exceptionClass\": \"\", \"trace\": \"\"}}, \"*\")"
      ],
      "text/plain": [
       "<IPython.core.display.Javascript object>"
      ]
     },
     "metadata": {},
     "output_type": "display_data"
    },
    {
     "data": {
      "text/markdown": [
       "<span style=\"color:#33cc33\">Correct</span>"
      ],
      "text/plain": [
       "Correct"
      ]
     },
     "metadata": {},
     "output_type": "display_data"
    }
   ],
   "source": [
    "# TODO: Complete the function\n",
    "def get_expected_cost(beds, baths):\n",
    "    value = 80000 + 30000 * beds + 10000 * baths\n",
    "    return value\n",
    "\n",
    "# Check your answer \n",
    "q1.check()"
   ]
  },
  {
   "cell_type": "code",
   "execution_count": 3,
   "id": "cf798c97",
   "metadata": {
    "execution": {
     "iopub.execute_input": "2023-07-11T07:04:31.508057Z",
     "iopub.status.busy": "2023-07-11T07:04:31.507628Z",
     "iopub.status.idle": "2023-07-11T07:04:31.513862Z",
     "shell.execute_reply": "2023-07-11T07:04:31.511883Z"
    },
    "papermill": {
     "duration": 0.020318,
     "end_time": "2023-07-11T07:04:31.517315",
     "exception": false,
     "start_time": "2023-07-11T07:04:31.496997",
     "status": "completed"
    },
    "tags": []
   },
   "outputs": [],
   "source": [
    "# Uncomment to see a hint\n",
    "#q1.hint()\n",
    "\n",
    "# Uncomment to view the solution\n",
    "#q1.solution()"
   ]
  },
  {
   "cell_type": "markdown",
   "id": "0f7851bf",
   "metadata": {
    "papermill": {
     "duration": 0.00746,
     "end_time": "2023-07-11T07:04:31.532969",
     "exception": false,
     "start_time": "2023-07-11T07:04:31.525509",
     "status": "completed"
    },
    "tags": []
   },
   "source": [
    "# Question 2\n",
    "\n",
    "You are thinking about buying a home and want to get an idea of how much you will spend, based on the number of bedrooms and bathrooms.  You are trying to decide between four different options:\n",
    "- Option 1: house with two bedrooms and three bathrooms\n",
    "- Option 2: house with three bedrooms and two bathrooms\n",
    "- Option 3: house with three bedrooms and three bathrooms\n",
    "- Option 4: house with three bedrooms and four bathrooms\n",
    "\n",
    "Use the `get_expected_cost()` function you defined in question 1 to set `option_1`, `option_2`, `option_3`, and `option_4` to the expected cost of each option."
   ]
  },
  {
   "cell_type": "code",
   "execution_count": 4,
   "id": "9423b32f",
   "metadata": {
    "execution": {
     "iopub.execute_input": "2023-07-11T07:04:31.550199Z",
     "iopub.status.busy": "2023-07-11T07:04:31.549742Z",
     "iopub.status.idle": "2023-07-11T07:04:31.561149Z",
     "shell.execute_reply": "2023-07-11T07:04:31.559851Z"
    },
    "papermill": {
     "duration": 0.023382,
     "end_time": "2023-07-11T07:04:31.563982",
     "exception": false,
     "start_time": "2023-07-11T07:04:31.540600",
     "status": "completed"
    },
    "tags": []
   },
   "outputs": [
    {
     "name": "stdout",
     "output_type": "stream",
     "text": [
      "170000\n",
      "190000\n",
      "200000\n",
      "210000\n"
     ]
    },
    {
     "data": {
      "application/javascript": [
       "parent.postMessage({\"jupyterEvent\": \"custom.exercise_interaction\", \"data\": {\"outcomeType\": 1, \"valueTowardsCompletion\": 0.2, \"interactionType\": 1, \"questionType\": 1, \"questionId\": \"2_RunGetExpectedCost\", \"learnToolsVersion\": \"0.3.4\", \"failureMessage\": \"\", \"exceptionClass\": \"\", \"trace\": \"\"}}, \"*\")"
      ],
      "text/plain": [
       "<IPython.core.display.Javascript object>"
      ]
     },
     "metadata": {},
     "output_type": "display_data"
    },
    {
     "data": {
      "text/markdown": [
       "<span style=\"color:#33cc33\">Correct</span>"
      ],
      "text/plain": [
       "Correct"
      ]
     },
     "metadata": {},
     "output_type": "display_data"
    }
   ],
   "source": [
    "# TODO: Use the get_expected_cost function to fill in each value\n",
    "option_one = get_expected_cost(2, 3)\n",
    "option_two = get_expected_cost(3, 2)\n",
    "option_three = get_expected_cost(3, 3)\n",
    "option_four = get_expected_cost(3, 4)\n",
    "\n",
    "print(option_one)\n",
    "print(option_two)\n",
    "print(option_three)\n",
    "print(option_four)\n",
    "\n",
    "# Check your answer\n",
    "q2.check()"
   ]
  },
  {
   "cell_type": "code",
   "execution_count": 5,
   "id": "6b832a68",
   "metadata": {
    "execution": {
     "iopub.execute_input": "2023-07-11T07:04:31.583242Z",
     "iopub.status.busy": "2023-07-11T07:04:31.582837Z",
     "iopub.status.idle": "2023-07-11T07:04:31.586639Z",
     "shell.execute_reply": "2023-07-11T07:04:31.585897Z"
    },
    "papermill": {
     "duration": 0.015445,
     "end_time": "2023-07-11T07:04:31.588952",
     "exception": false,
     "start_time": "2023-07-11T07:04:31.573507",
     "status": "completed"
    },
    "tags": []
   },
   "outputs": [],
   "source": [
    "# Uncomment to see a hint\n",
    "#q2.hint()\n",
    "\n",
    "# Uncomment to view the solution\n",
    "#q2.solution()"
   ]
  },
  {
   "cell_type": "markdown",
   "id": "4ea33b2a",
   "metadata": {
    "papermill": {
     "duration": 0.007937,
     "end_time": "2023-07-11T07:04:31.605156",
     "exception": false,
     "start_time": "2023-07-11T07:04:31.597219",
     "status": "completed"
    },
    "tags": []
   },
   "source": [
    "# Question 3\n",
    "\n",
    "You're a home decorator, and you'd like to use Python to streamline some of your work.  Specifically, you're creating a tool that you intend to use to calculate the cost of painting a room.\n",
    "\n",
    "As a first step, define a function `get_cost()` that takes as input:\n",
    "- `sqft_walls` = total square feet of walls to be painted\n",
    "- `sqft_ceiling` = square feet of ceiling to be painted\n",
    "- `sqft_per_gallon` = number of square feet that you can cover with one gallon of paint\n",
    "- `cost_per_gallon` = cost (in dollars) of one gallon of paint\n",
    "\n",
    "It should return the cost (in dollars) of putting one coat of paint on all walls and the ceiling.  Assume you can buy the exact amount of paint that you need, so you can buy partial gallons (e.g., if you need 7.523 gallons, you can buy that exact amount, instead of needing to buy 8 gallons and waste some paint).  Do not round your answer."
   ]
  },
  {
   "cell_type": "code",
   "execution_count": 6,
   "id": "49138383",
   "metadata": {
    "execution": {
     "iopub.execute_input": "2023-07-11T07:04:31.623957Z",
     "iopub.status.busy": "2023-07-11T07:04:31.623494Z",
     "iopub.status.idle": "2023-07-11T07:04:31.633625Z",
     "shell.execute_reply": "2023-07-11T07:04:31.632420Z"
    },
    "papermill": {
     "duration": 0.022831,
     "end_time": "2023-07-11T07:04:31.636142",
     "exception": false,
     "start_time": "2023-07-11T07:04:31.613311",
     "status": "completed"
    },
    "tags": []
   },
   "outputs": [
    {
     "data": {
      "application/javascript": [
       "parent.postMessage({\"jupyterEvent\": \"custom.exercise_interaction\", \"data\": {\"outcomeType\": 1, \"valueTowardsCompletion\": 0.2, \"interactionType\": 1, \"questionType\": 2, \"questionId\": \"3_GetCostPaint\", \"learnToolsVersion\": \"0.3.4\", \"failureMessage\": \"\", \"exceptionClass\": \"\", \"trace\": \"\"}}, \"*\")"
      ],
      "text/plain": [
       "<IPython.core.display.Javascript object>"
      ]
     },
     "metadata": {},
     "output_type": "display_data"
    },
    {
     "data": {
      "text/markdown": [
       "<span style=\"color:#33cc33\">Correct</span>"
      ],
      "text/plain": [
       "Correct"
      ]
     },
     "metadata": {},
     "output_type": "display_data"
    }
   ],
   "source": [
    "# TODO: Finish defining the function\n",
    "def get_cost(sqft_walls, sqft_ceiling, sqft_per_gallon, cost_per_gallon):\n",
    "    total_sqft = sqft_walls + sqft_ceiling\n",
    "    gallons_needed = total_sqft / sqft_per_gallon\n",
    "    cost = cost_per_gallon * gallons_needed\n",
    "    return cost\n",
    "\n",
    "# Check your answer\n",
    "q3.check()"
   ]
  },
  {
   "cell_type": "code",
   "execution_count": 7,
   "id": "cbc8e899",
   "metadata": {
    "execution": {
     "iopub.execute_input": "2023-07-11T07:04:31.655916Z",
     "iopub.status.busy": "2023-07-11T07:04:31.655503Z",
     "iopub.status.idle": "2023-07-11T07:04:31.660398Z",
     "shell.execute_reply": "2023-07-11T07:04:31.659176Z"
    },
    "papermill": {
     "duration": 0.017943,
     "end_time": "2023-07-11T07:04:31.662842",
     "exception": false,
     "start_time": "2023-07-11T07:04:31.644899",
     "status": "completed"
    },
    "tags": []
   },
   "outputs": [],
   "source": [
    "# Uncomment to see a hint\n",
    "#q3.hint()\n",
    "\n",
    "# Uncomment to view the solution\n",
    "#q3.solution()"
   ]
  },
  {
   "cell_type": "markdown",
   "id": "86acd823",
   "metadata": {
    "papermill": {
     "duration": 0.008416,
     "end_time": "2023-07-11T07:04:31.680351",
     "exception": false,
     "start_time": "2023-07-11T07:04:31.671935",
     "status": "completed"
    },
    "tags": []
   },
   "source": [
    "# Question 4\n",
    "\n",
    "Use the `get_cost()` function you defined in Question 3 to calculate the cost of applying one coat of paint to a room with:\n",
    "- 432 square feet of walls, and\n",
    "- 144 square feet of ceiling.\n",
    "\n",
    "Assume that one gallon of paint covers 400 square feet and costs $15.  As in Question 3, assume you can buy partial gallons of paint.  Do not round your answer."
   ]
  },
  {
   "cell_type": "code",
   "execution_count": 8,
   "id": "5f7eb100",
   "metadata": {
    "execution": {
     "iopub.execute_input": "2023-07-11T07:04:31.700822Z",
     "iopub.status.busy": "2023-07-11T07:04:31.699671Z",
     "iopub.status.idle": "2023-07-11T07:04:31.707945Z",
     "shell.execute_reply": "2023-07-11T07:04:31.707173Z"
    },
    "papermill": {
     "duration": 0.02059,
     "end_time": "2023-07-11T07:04:31.710229",
     "exception": false,
     "start_time": "2023-07-11T07:04:31.689639",
     "status": "completed"
    },
    "tags": []
   },
   "outputs": [
    {
     "data": {
      "application/javascript": [
       "parent.postMessage({\"jupyterEvent\": \"custom.exercise_interaction\", \"data\": {\"outcomeType\": 1, \"valueTowardsCompletion\": 0.2, \"interactionType\": 1, \"questionType\": 1, \"questionId\": \"4_GetCostPaintExample\", \"learnToolsVersion\": \"0.3.4\", \"failureMessage\": \"\", \"exceptionClass\": \"\", \"trace\": \"\"}}, \"*\")"
      ],
      "text/plain": [
       "<IPython.core.display.Javascript object>"
      ]
     },
     "metadata": {},
     "output_type": "display_data"
    },
    {
     "data": {
      "text/markdown": [
       "<span style=\"color:#33cc33\">Correct</span>"
      ],
      "text/plain": [
       "Correct"
      ]
     },
     "metadata": {},
     "output_type": "display_data"
    }
   ],
   "source": [
    "# TODO: Set the project_cost variable to the cost of the project\n",
    "project_cost = get_cost(432, 144, 400, 15)\n",
    "\n",
    "# Check your answer\n",
    "q4.check()"
   ]
  },
  {
   "cell_type": "code",
   "execution_count": 9,
   "id": "8f01aff4",
   "metadata": {
    "execution": {
     "iopub.execute_input": "2023-07-11T07:04:31.731389Z",
     "iopub.status.busy": "2023-07-11T07:04:31.730563Z",
     "iopub.status.idle": "2023-07-11T07:04:31.735348Z",
     "shell.execute_reply": "2023-07-11T07:04:31.734424Z"
    },
    "papermill": {
     "duration": 0.018469,
     "end_time": "2023-07-11T07:04:31.737835",
     "exception": false,
     "start_time": "2023-07-11T07:04:31.719366",
     "status": "completed"
    },
    "tags": []
   },
   "outputs": [],
   "source": [
    "# Uncomment to see a hint\n",
    "#q4.hint()\n",
    "\n",
    "# Uncomment to view the solution\n",
    "#q4.solution()"
   ]
  },
  {
   "cell_type": "markdown",
   "id": "1931282c",
   "metadata": {
    "papermill": {
     "duration": 0.008795,
     "end_time": "2023-07-11T07:04:31.755866",
     "exception": false,
     "start_time": "2023-07-11T07:04:31.747071",
     "status": "completed"
    },
    "tags": []
   },
   "source": [
    "# 🌶️ Question 5\n",
    "\n",
    "Now say you can no longer buy fractions of a gallon.  (For instance, if you need 4.3 gallons to do a project, then you have to buy 5 gallons of paint.)\n",
    "\n",
    "With this new scenario, you will create a new function `get_actual_cost` that uses the same inputs and calculates the cost of your project.\n",
    "\n",
    "One function that you'll need to use to do this is `math.ceil()`.  We demonstrate usage of this function in the code cell below.  It takes as a number as input and rounds the number up to the nearest integer.  \n",
    "\n",
    "Run the next code cell to test this function for yourself.  Feel free to change the value of `test_value` and make sure `math.ceil()` returns the number you expect."
   ]
  },
  {
   "cell_type": "code",
   "execution_count": 10,
   "id": "73def9a4",
   "metadata": {
    "execution": {
     "iopub.execute_input": "2023-07-11T07:04:31.776506Z",
     "iopub.status.busy": "2023-07-11T07:04:31.775765Z",
     "iopub.status.idle": "2023-07-11T07:04:31.781715Z",
     "shell.execute_reply": "2023-07-11T07:04:31.780194Z"
    },
    "papermill": {
     "duration": 0.01925,
     "end_time": "2023-07-11T07:04:31.784158",
     "exception": false,
     "start_time": "2023-07-11T07:04:31.764908",
     "status": "completed"
    },
    "tags": []
   },
   "outputs": [
    {
     "name": "stdout",
     "output_type": "stream",
     "text": [
      "3\n"
     ]
    }
   ],
   "source": [
    "test_value = 2.17\n",
    "\n",
    "rounded_value = math.ceil(test_value)\n",
    "print(rounded_value)"
   ]
  },
  {
   "cell_type": "markdown",
   "id": "c1030db5",
   "metadata": {
    "papermill": {
     "duration": 0.009498,
     "end_time": "2023-07-11T07:04:31.803123",
     "exception": false,
     "start_time": "2023-07-11T07:04:31.793625",
     "status": "completed"
    },
    "tags": []
   },
   "source": [
    "Use the next code cell to define the function `get_actual_cost()`.  You'll need to use the `math.ceil()` function to do this.\n",
    "\n",
    "When answering this question, note that it's completely valid to define a function that makes use of another function.  For instance, we can define a function `round_up_and_divide_by_three` that makes use of the `math.ceil` function:\n",
    "```\n",
    "def round_up_and_divide_by_three(num):\n",
    "    new_value = math.ceil(num)\n",
    "    final_value = new_value / 3\n",
    "    return final_value\n",
    "```"
   ]
  },
  {
   "cell_type": "code",
   "execution_count": 11,
   "id": "9c27e32a",
   "metadata": {
    "execution": {
     "iopub.execute_input": "2023-07-11T07:04:31.824984Z",
     "iopub.status.busy": "2023-07-11T07:04:31.824525Z",
     "iopub.status.idle": "2023-07-11T07:04:31.835917Z",
     "shell.execute_reply": "2023-07-11T07:04:31.834579Z"
    },
    "papermill": {
     "duration": 0.026016,
     "end_time": "2023-07-11T07:04:31.839350",
     "exception": false,
     "start_time": "2023-07-11T07:04:31.813334",
     "status": "completed"
    },
    "tags": []
   },
   "outputs": [
    {
     "data": {
      "application/javascript": [
       "parent.postMessage({\"jupyterEvent\": \"custom.exercise_interaction\", \"data\": {\"outcomeType\": 1, \"valueTowardsCompletion\": 0.2, \"interactionType\": 1, \"questionType\": 2, \"questionId\": \"5_NoMoreFractions\", \"learnToolsVersion\": \"0.3.4\", \"failureMessage\": \"\", \"exceptionClass\": \"\", \"trace\": \"\"}}, \"*\")"
      ],
      "text/plain": [
       "<IPython.core.display.Javascript object>"
      ]
     },
     "metadata": {},
     "output_type": "display_data"
    },
    {
     "data": {
      "text/markdown": [
       "<span style=\"color:#33cc33\">Correct</span>"
      ],
      "text/plain": [
       "Correct"
      ]
     },
     "metadata": {},
     "output_type": "display_data"
    }
   ],
   "source": [
    "def get_actual_cost(sqft_walls, sqft_ceiling, sqft_per_gallon, cost_per_gallon):\n",
    "    total_sqft = sqft_walls + sqft_ceiling\n",
    "    gallons_needed = total_sqft / sqft_per_gallon\n",
    "    gallons_to_buy = math.ceil(gallons_needed)\n",
    "    cost = cost_per_gallon * gallons_to_buy\n",
    "    return cost\n",
    "\n",
    "# Check your answer\n",
    "q5.check()"
   ]
  },
  {
   "cell_type": "code",
   "execution_count": 12,
   "id": "676eece6",
   "metadata": {
    "execution": {
     "iopub.execute_input": "2023-07-11T07:04:31.861962Z",
     "iopub.status.busy": "2023-07-11T07:04:31.861074Z",
     "iopub.status.idle": "2023-07-11T07:04:31.866149Z",
     "shell.execute_reply": "2023-07-11T07:04:31.865264Z"
    },
    "papermill": {
     "duration": 0.018709,
     "end_time": "2023-07-11T07:04:31.868754",
     "exception": false,
     "start_time": "2023-07-11T07:04:31.850045",
     "status": "completed"
    },
    "tags": []
   },
   "outputs": [],
   "source": [
    "# Uncomment to see a hint\n",
    "#q5.hint()\n",
    "\n",
    "# Uncomment to view the solution\n",
    "#q5.solution()"
   ]
  },
  {
   "cell_type": "markdown",
   "id": "acdeb2da",
   "metadata": {
    "papermill": {
     "duration": 0.009407,
     "end_time": "2023-07-11T07:04:31.888061",
     "exception": false,
     "start_time": "2023-07-11T07:04:31.878654",
     "status": "completed"
    },
    "tags": []
   },
   "source": [
    "Once your function is verified as correct, run the next code cell to calculate the updated cost of your project."
   ]
  },
  {
   "cell_type": "code",
   "execution_count": 13,
   "id": "afb55690",
   "metadata": {
    "execution": {
     "iopub.execute_input": "2023-07-11T07:04:31.910015Z",
     "iopub.status.busy": "2023-07-11T07:04:31.909261Z",
     "iopub.status.idle": "2023-07-11T07:04:31.916928Z",
     "shell.execute_reply": "2023-07-11T07:04:31.915405Z"
    },
    "papermill": {
     "duration": 0.021971,
     "end_time": "2023-07-11T07:04:31.919819",
     "exception": false,
     "start_time": "2023-07-11T07:04:31.897848",
     "status": "completed"
    },
    "tags": []
   },
   "outputs": [
    {
     "data": {
      "text/plain": [
       "30"
      ]
     },
     "execution_count": 13,
     "metadata": {},
     "output_type": "execute_result"
    }
   ],
   "source": [
    "get_actual_cost(432, 144, 400, 15) "
   ]
  },
  {
   "cell_type": "markdown",
   "id": "0b334dc5",
   "metadata": {
    "papermill": {
     "duration": 0.009579,
     "end_time": "2023-07-11T07:04:31.939992",
     "exception": false,
     "start_time": "2023-07-11T07:04:31.930413",
     "status": "completed"
    },
    "tags": []
   },
   "source": [
    "Say you're working with a slightly larger room.  Run the next code cell to calculate the cost of the project."
   ]
  },
  {
   "cell_type": "code",
   "execution_count": 14,
   "id": "5a09d1bc",
   "metadata": {
    "execution": {
     "iopub.execute_input": "2023-07-11T07:04:31.964873Z",
     "iopub.status.busy": "2023-07-11T07:04:31.964437Z",
     "iopub.status.idle": "2023-07-11T07:04:31.971640Z",
     "shell.execute_reply": "2023-07-11T07:04:31.970386Z"
    },
    "papermill": {
     "duration": 0.021206,
     "end_time": "2023-07-11T07:04:31.974086",
     "exception": false,
     "start_time": "2023-07-11T07:04:31.952880",
     "status": "completed"
    },
    "tags": []
   },
   "outputs": [
    {
     "data": {
      "text/plain": [
       "45"
      ]
     },
     "execution_count": 14,
     "metadata": {},
     "output_type": "execute_result"
    }
   ],
   "source": [
    "get_actual_cost(594, 288, 400, 15) "
   ]
  },
  {
   "cell_type": "markdown",
   "id": "eea38b2e",
   "metadata": {
    "papermill": {
     "duration": 0.011063,
     "end_time": "2023-07-11T07:04:31.996253",
     "exception": false,
     "start_time": "2023-07-11T07:04:31.985190",
     "status": "completed"
    },
    "tags": []
   },
   "source": [
    "# Keep going\n",
    "\n",
    "Continue to learn about **[data types](https://www.kaggle.com/alexisbcook/data-types)**."
   ]
  },
  {
   "cell_type": "markdown",
   "id": "bf1d23f9",
   "metadata": {
    "papermill": {
     "duration": 0.010875,
     "end_time": "2023-07-11T07:04:32.018217",
     "exception": false,
     "start_time": "2023-07-11T07:04:32.007342",
     "status": "completed"
    },
    "tags": []
   },
   "source": [
    "---\n",
    "\n",
    "\n",
    "\n",
    "\n",
    "*Have questions or comments? Visit the [course discussion forum](https://www.kaggle.com/learn/intro-to-programming/discussion) to chat with other learners.*"
   ]
  }
 ],
 "metadata": {
  "kernelspec": {
   "display_name": "Python 3",
   "language": "python",
   "name": "python3"
  },
  "language_info": {
   "codemirror_mode": {
    "name": "ipython",
    "version": 3
   },
   "file_extension": ".py",
   "mimetype": "text/x-python",
   "name": "python",
   "nbconvert_exporter": "python",
   "pygments_lexer": "ipython3",
   "version": "3.10.12"
  },
  "papermill": {
   "default_parameters": {},
   "duration": 14.477899,
   "end_time": "2023-07-11T07:04:32.952581",
   "environment_variables": {},
   "exception": null,
   "input_path": "__notebook__.ipynb",
   "output_path": "__notebook__.ipynb",
   "parameters": {},
   "start_time": "2023-07-11T07:04:18.474682",
   "version": "2.4.0"
  }
 },
 "nbformat": 4,
 "nbformat_minor": 5
}
