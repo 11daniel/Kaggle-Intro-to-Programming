{
 "cells": [
  {
   "cell_type": "markdown",
   "id": "70d1b685",
   "metadata": {
    "papermill": {
     "duration": 0.008031,
     "end_time": "2023-07-11T07:30:57.878469",
     "exception": false,
     "start_time": "2023-07-11T07:30:57.870438",
     "status": "completed"
    },
    "tags": []
   },
   "source": [
    "**This notebook is an exercise in the [Intro to Programming](https://www.kaggle.com/learn/intro-to-programming) course.  You can reference the tutorial at [this link](https://www.kaggle.com/alexisbcook/data-types).**\n",
    "\n",
    "---\n"
   ]
  },
  {
   "cell_type": "markdown",
   "id": "552f49b8",
   "metadata": {
    "papermill": {
     "duration": 0.008084,
     "end_time": "2023-07-11T07:30:57.894184",
     "exception": false,
     "start_time": "2023-07-11T07:30:57.886100",
     "status": "completed"
    },
    "tags": []
   },
   "source": [
    "In the tutorial, you learned about four different data types: floats, integers, strings, and booleans.  In this exercise, you'll experiment with them.\n",
    "\n",
    "# Set up the notebook\n",
    "\n",
    "Run the next code cell without changes to set up the notebook."
   ]
  },
  {
   "cell_type": "code",
   "execution_count": 1,
   "id": "1818bb86",
   "metadata": {
    "execution": {
     "iopub.execute_input": "2023-07-11T07:30:57.911939Z",
     "iopub.status.busy": "2023-07-11T07:30:57.911255Z",
     "iopub.status.idle": "2023-07-11T07:30:57.964707Z",
     "shell.execute_reply": "2023-07-11T07:30:57.963880Z"
    },
    "papermill": {
     "duration": 0.064855,
     "end_time": "2023-07-11T07:30:57.967103",
     "exception": false,
     "start_time": "2023-07-11T07:30:57.902248",
     "status": "completed"
    },
    "tags": []
   },
   "outputs": [
    {
     "name": "stdout",
     "output_type": "stream",
     "text": [
      "Setup complete.\n"
     ]
    }
   ],
   "source": [
    "# Set up the exercise\n",
    "from learntools.core import binder\n",
    "binder.bind(globals())\n",
    "from learntools.intro_to_programming.ex3 import *\n",
    "print('Setup complete.')"
   ]
  },
  {
   "cell_type": "markdown",
   "id": "e8dc5a74",
   "metadata": {
    "papermill": {
     "duration": 0.007188,
     "end_time": "2023-07-11T07:30:57.982007",
     "exception": false,
     "start_time": "2023-07-11T07:30:57.974819",
     "status": "completed"
    },
    "tags": []
   },
   "source": [
    "# Question 1\n",
    "\n",
    "You have seen how to convert a float to an integer with the `int` function.  Try this out yourself by running the code cell below."
   ]
  },
  {
   "cell_type": "code",
   "execution_count": 2,
   "id": "3d292933",
   "metadata": {
    "execution": {
     "iopub.execute_input": "2023-07-11T07:30:57.998946Z",
     "iopub.status.busy": "2023-07-11T07:30:57.998498Z",
     "iopub.status.idle": "2023-07-11T07:30:58.004817Z",
     "shell.execute_reply": "2023-07-11T07:30:58.003513Z"
    },
    "papermill": {
     "duration": 0.018844,
     "end_time": "2023-07-11T07:30:58.008285",
     "exception": false,
     "start_time": "2023-07-11T07:30:57.989441",
     "status": "completed"
    },
    "tags": []
   },
   "outputs": [
    {
     "name": "stdout",
     "output_type": "stream",
     "text": [
      "1.0\n",
      "<class 'float'>\n",
      "1\n",
      "<class 'int'>\n"
     ]
    }
   ],
   "source": [
    "# Define a float\n",
    "y = 1.\n",
    "print(y)\n",
    "print(type(y))\n",
    "\n",
    "# Convert float to integer with the int function\n",
    "z = int(y)\n",
    "print(z)\n",
    "print(type(z))"
   ]
  },
  {
   "cell_type": "markdown",
   "id": "9b1898c2",
   "metadata": {
    "papermill": {
     "duration": 0.007603,
     "end_time": "2023-07-11T07:30:58.024429",
     "exception": false,
     "start_time": "2023-07-11T07:30:58.016826",
     "status": "completed"
    },
    "tags": []
   },
   "source": [
    "In this case, the float you are using has no numbers after the decimal.  \n",
    "- But what happens when you try to convert a float with a fractional part to an integer?  \n",
    "- How does the outcome of the `int` function change for positive and negative numbers?\n",
    "\n",
    "Use the next code cell to investigate and answer these questions.  Feel free to add or remove any lines of code -- it is your workspace!"
   ]
  },
  {
   "cell_type": "code",
   "execution_count": 3,
   "id": "3db57b3c",
   "metadata": {
    "execution": {
     "iopub.execute_input": "2023-07-11T07:30:58.042200Z",
     "iopub.status.busy": "2023-07-11T07:30:58.041803Z",
     "iopub.status.idle": "2023-07-11T07:30:58.048324Z",
     "shell.execute_reply": "2023-07-11T07:30:58.047212Z"
    },
    "papermill": {
     "duration": 0.018878,
     "end_time": "2023-07-11T07:30:58.051590",
     "exception": false,
     "start_time": "2023-07-11T07:30:58.032712",
     "status": "completed"
    },
    "tags": []
   },
   "outputs": [
    {
     "name": "stdout",
     "output_type": "stream",
     "text": [
      "1\n",
      "1\n",
      "-3\n",
      "-2\n"
     ]
    }
   ],
   "source": [
    "# Uncomment and run this code to get started!\n",
    "print(int(1.2321))\n",
    "print(int(1.747))\n",
    "print(int(-3.94535))\n",
    "print(int(-2.19774))"
   ]
  },
  {
   "cell_type": "markdown",
   "id": "e296affb",
   "metadata": {
    "papermill": {
     "duration": 0.008965,
     "end_time": "2023-07-11T07:30:58.068506",
     "exception": false,
     "start_time": "2023-07-11T07:30:58.059541",
     "status": "completed"
    },
    "tags": []
   },
   "source": [
    "Once you have an answer, run the code cell below to see the solution.  Viewing the solution will give you credit for answering the problem."
   ]
  },
  {
   "cell_type": "code",
   "execution_count": 4,
   "id": "b1337edc",
   "metadata": {
    "execution": {
     "iopub.execute_input": "2023-07-11T07:30:58.086251Z",
     "iopub.status.busy": "2023-07-11T07:30:58.085822Z",
     "iopub.status.idle": "2023-07-11T07:30:58.095505Z",
     "shell.execute_reply": "2023-07-11T07:30:58.094670Z"
    },
    "papermill": {
     "duration": 0.021236,
     "end_time": "2023-07-11T07:30:58.097686",
     "exception": false,
     "start_time": "2023-07-11T07:30:58.076450",
     "status": "completed"
    },
    "tags": []
   },
   "outputs": [
    {
     "data": {
      "application/javascript": [
       "parent.postMessage({\"jupyterEvent\": \"custom.exercise_interaction\", \"data\": {\"outcomeType\": 1, \"valueTowardsCompletion\": 0.2, \"interactionType\": 1, \"questionType\": 4, \"questionId\": \"1_FloatToInt\", \"learnToolsVersion\": \"0.3.4\", \"failureMessage\": \"\", \"exceptionClass\": \"\", \"trace\": \"\"}}, \"*\")"
      ],
      "text/plain": [
       "<IPython.core.display.Javascript object>"
      ]
     },
     "metadata": {},
     "output_type": "display_data"
    },
    {
     "data": {
      "text/markdown": [
       "<span style=\"color:#33cc33\">Correct:</span> \n",
       "\n",
       "Negative floats are always rounded UP to the closest integer (for instance, both -1.1 and -1.9 are rounded up to -1). Positive floats are always rounded DOWN to the closest integer (for instance, 2.1 and 2.9 are rounded down to 2)."
      ],
      "text/plain": [
       "Correct: \n",
       "\n",
       "Negative floats are always rounded UP to the closest integer (for instance, both -1.1 and -1.9 are rounded up to -1). Positive floats are always rounded DOWN to the closest integer (for instance, 2.1 and 2.9 are rounded down to 2)."
      ]
     },
     "metadata": {},
     "output_type": "display_data"
    }
   ],
   "source": [
    "# Check your answer (Run this code cell to receive credit!)\n",
    "q1.check()"
   ]
  },
  {
   "cell_type": "markdown",
   "id": "3ab7232d",
   "metadata": {
    "papermill": {
     "duration": 0.00801,
     "end_time": "2023-07-11T07:30:58.114180",
     "exception": false,
     "start_time": "2023-07-11T07:30:58.106170",
     "status": "completed"
    },
    "tags": []
   },
   "source": [
    "# Question 2\n",
    "\n",
    "In the tutorial, you learned about booleans (which can take a value of `True` or `False`), in addition to integers, floats, and strings.  For this question, your goal is to determine what happens when you multiply a boolean by any of these data types.  Specifically, \n",
    "- What happens when you multiply an integer or float by `True`?  What happens when you multiply them by `False`?  How does the answer change if the numbers are positive or negative?\n",
    "- What happens when you multiply a string by `True`?  By `False`?\n",
    "\n",
    "Use the next code cell for your investigation. "
   ]
  },
  {
   "cell_type": "code",
   "execution_count": 5,
   "id": "d2c2f5b3",
   "metadata": {
    "execution": {
     "iopub.execute_input": "2023-07-11T07:30:58.133004Z",
     "iopub.status.busy": "2023-07-11T07:30:58.132236Z",
     "iopub.status.idle": "2023-07-11T07:30:58.139830Z",
     "shell.execute_reply": "2023-07-11T07:30:58.137987Z"
    },
    "papermill": {
     "duration": 0.019547,
     "end_time": "2023-07-11T07:30:58.142072",
     "exception": false,
     "start_time": "2023-07-11T07:30:58.122525",
     "status": "completed"
    },
    "tags": []
   },
   "outputs": [
    {
     "name": "stdout",
     "output_type": "stream",
     "text": [
      "3\n",
      "-3.1\n",
      "<class 'str'>\n",
      "0\n"
     ]
    }
   ],
   "source": [
    "# Uncomment and run this code to get started!\n",
    "print(3 * True)\n",
    "print(-3.1 * True)\n",
    "print(type(\"abc\" * False))\n",
    "print(len(\"abc\" * False))"
   ]
  },
  {
   "cell_type": "markdown",
   "id": "309855d5",
   "metadata": {
    "papermill": {
     "duration": 0.008612,
     "end_time": "2023-07-11T07:30:58.159867",
     "exception": false,
     "start_time": "2023-07-11T07:30:58.151255",
     "status": "completed"
    },
    "tags": []
   },
   "source": [
    "Once you have an answer, run the code cell below to see the solution.  Viewing the solution will give you credit for answering the problem."
   ]
  },
  {
   "cell_type": "code",
   "execution_count": 6,
   "id": "bafb0d63",
   "metadata": {
    "execution": {
     "iopub.execute_input": "2023-07-11T07:30:58.178720Z",
     "iopub.status.busy": "2023-07-11T07:30:58.178281Z",
     "iopub.status.idle": "2023-07-11T07:30:58.186688Z",
     "shell.execute_reply": "2023-07-11T07:30:58.185801Z"
    },
    "papermill": {
     "duration": 0.020541,
     "end_time": "2023-07-11T07:30:58.188959",
     "exception": false,
     "start_time": "2023-07-11T07:30:58.168418",
     "status": "completed"
    },
    "tags": []
   },
   "outputs": [
    {
     "data": {
      "application/javascript": [
       "parent.postMessage({\"jupyterEvent\": \"custom.exercise_interaction\", \"data\": {\"outcomeType\": 1, \"valueTowardsCompletion\": 0.2, \"interactionType\": 1, \"questionType\": 4, \"questionId\": \"2_MultiplyBooleans\", \"learnToolsVersion\": \"0.3.4\", \"failureMessage\": \"\", \"exceptionClass\": \"\", \"trace\": \"\"}}, \"*\")"
      ],
      "text/plain": [
       "<IPython.core.display.Javascript object>"
      ]
     },
     "metadata": {},
     "output_type": "display_data"
    },
    {
     "data": {
      "text/markdown": [
       "<span style=\"color:#33cc33\">Correct:</span> \n",
       "\n",
       "When you multiple an integer or float by a boolean with value `True`, it just returns that same integer or float (and is equivalent to multiplying by 1).  If you multiply an integer or float by a boolean with value `False`, it always returns 0.  This is true for both positive and negative numbers.  If you multiply a string by a boolean with value `True`, it just returns that same string.  And if you multiply a string by a boolean with value `False`, it returns an empty string (or a string with length zero)."
      ],
      "text/plain": [
       "Correct: \n",
       "\n",
       "When you multiple an integer or float by a boolean with value `True`, it just returns that same integer or float (and is equivalent to multiplying by 1).  If you multiply an integer or float by a boolean with value `False`, it always returns 0.  This is true for both positive and negative numbers.  If you multiply a string by a boolean with value `True`, it just returns that same string.  And if you multiply a string by a boolean with value `False`, it returns an empty string (or a string with length zero)."
      ]
     },
     "metadata": {},
     "output_type": "display_data"
    }
   ],
   "source": [
    "# Check your answer (Run this code cell to receive credit!)\n",
    "q2.check()"
   ]
  },
  {
   "cell_type": "markdown",
   "id": "f974b507",
   "metadata": {
    "papermill": {
     "duration": 0.008773,
     "end_time": "2023-07-11T07:30:58.206788",
     "exception": false,
     "start_time": "2023-07-11T07:30:58.198015",
     "status": "completed"
    },
    "tags": []
   },
   "source": [
    "# Question 3\n",
    "\n",
    "In this question, you will build off your work from the previous exercise to write a function that estimates the value of a house.\n",
    "\n",
    "Use the next code cell to create a function `get_expected_cost` that takes as input three variables:\n",
    "- `beds` - number of bedrooms (data type float)\n",
    "- `baths` - number of bathrooms (data type float)\n",
    "- `has_basement` - whether or not the house has a basement (data type boolean)\n",
    "\n",
    "It should return the expected cost of a house with those characteristics. Assume that:\n",
    "- the expected cost for a house with 0 bedrooms and 0 bathrooms, and no basement is 80000, \n",
    "- each bedroom adds 30000 to the expected cost,\n",
    "- each bathroom adds 10000 to the expected cost, and\n",
    "- a basement adds 40000 to the expected cost.\n",
    "\n",
    "For instance,\n",
    "- a house with 1 bedroom, 1 bathroom, and no basement has an expected cost of 80000 + 30000 + 10000 = 120000.  This value will be calculated with `get_expected_cost(1, 1, False)`.\n",
    "- a house with 2 bedrooms, 1 bathroom, and a basement has an expected cost of 80000 + 2*30000 + 10000 + 40000 = 190000.  This value will be calculated with `get_expected_cost(2, 1, True)`.\n",
    "\n",
    "Remember you can always get a hint by uncommenting `q3.hint()` in the code cell following the next!"
   ]
  },
  {
   "cell_type": "code",
   "execution_count": 7,
   "id": "addb8c5c",
   "metadata": {
    "execution": {
     "iopub.execute_input": "2023-07-11T07:30:58.227799Z",
     "iopub.status.busy": "2023-07-11T07:30:58.227351Z",
     "iopub.status.idle": "2023-07-11T07:30:58.236681Z",
     "shell.execute_reply": "2023-07-11T07:30:58.235673Z"
    },
    "papermill": {
     "duration": 0.022624,
     "end_time": "2023-07-11T07:30:58.238822",
     "exception": false,
     "start_time": "2023-07-11T07:30:58.216198",
     "status": "completed"
    },
    "tags": []
   },
   "outputs": [
    {
     "data": {
      "application/javascript": [
       "parent.postMessage({\"jupyterEvent\": \"custom.exercise_interaction\", \"data\": {\"outcomeType\": 1, \"valueTowardsCompletion\": 0.2, \"interactionType\": 1, \"questionType\": 2, \"questionId\": \"3_EstimateHouseValueBool\", \"learnToolsVersion\": \"0.3.4\", \"failureMessage\": \"\", \"exceptionClass\": \"\", \"trace\": \"\"}}, \"*\")"
      ],
      "text/plain": [
       "<IPython.core.display.Javascript object>"
      ]
     },
     "metadata": {},
     "output_type": "display_data"
    },
    {
     "data": {
      "text/markdown": [
       "<span style=\"color:#33cc33\">Correct</span>"
      ],
      "text/plain": [
       "Correct"
      ]
     },
     "metadata": {},
     "output_type": "display_data"
    }
   ],
   "source": [
    "# TODO: Complete the function\n",
    "def get_expected_cost(beds, baths, has_basement):\n",
    "    value = 80000 + 30000 * beds + 10000 * baths + 40000 * has_basement\n",
    "    return value\n",
    "\n",
    "# Check your answer \n",
    "q3.check()"
   ]
  },
  {
   "cell_type": "code",
   "execution_count": 8,
   "id": "877bd52e",
   "metadata": {
    "execution": {
     "iopub.execute_input": "2023-07-11T07:30:58.260032Z",
     "iopub.status.busy": "2023-07-11T07:30:58.259645Z",
     "iopub.status.idle": "2023-07-11T07:30:58.263973Z",
     "shell.execute_reply": "2023-07-11T07:30:58.262881Z"
    },
    "papermill": {
     "duration": 0.01774,
     "end_time": "2023-07-11T07:30:58.266066",
     "exception": false,
     "start_time": "2023-07-11T07:30:58.248326",
     "status": "completed"
    },
    "tags": []
   },
   "outputs": [],
   "source": [
    "# Uncomment to see a hint\n",
    "#q3.hint()\n",
    "\n",
    "# Uncomment to view the solution\n",
    "#q3.solution()"
   ]
  },
  {
   "cell_type": "markdown",
   "id": "8354b296",
   "metadata": {
    "papermill": {
     "duration": 0.009215,
     "end_time": "2023-07-11T07:30:58.284685",
     "exception": false,
     "start_time": "2023-07-11T07:30:58.275470",
     "status": "completed"
    },
    "tags": []
   },
   "source": [
    "# Question 4\n",
    "\n",
    "We'll continue our study of boolean arithmetic.  For this question, your task is to provide a description of what happpens when you add booleans. \n",
    "\n",
    "Use the next code cell for your investigation.  Feel free to add or remove any lines of code - use it as your workspace!"
   ]
  },
  {
   "cell_type": "code",
   "execution_count": 9,
   "id": "160b9509",
   "metadata": {
    "execution": {
     "iopub.execute_input": "2023-07-11T07:30:58.306504Z",
     "iopub.status.busy": "2023-07-11T07:30:58.306069Z",
     "iopub.status.idle": "2023-07-11T07:30:58.312748Z",
     "shell.execute_reply": "2023-07-11T07:30:58.311638Z"
    },
    "papermill": {
     "duration": 0.020398,
     "end_time": "2023-07-11T07:30:58.315431",
     "exception": false,
     "start_time": "2023-07-11T07:30:58.295033",
     "status": "completed"
    },
    "tags": []
   },
   "outputs": [
    {
     "name": "stdout",
     "output_type": "stream",
     "text": [
      "0\n",
      "1\n",
      "1\n",
      "2\n",
      "3\n"
     ]
    }
   ],
   "source": [
    "print(False + False)\n",
    "print(True + False)\n",
    "print(False + True)\n",
    "print(True + True)\n",
    "print(False + True + True + True)"
   ]
  },
  {
   "cell_type": "markdown",
   "id": "9ed4797d",
   "metadata": {
    "papermill": {
     "duration": 0.009517,
     "end_time": "2023-07-11T07:30:58.334697",
     "exception": false,
     "start_time": "2023-07-11T07:30:58.325180",
     "status": "completed"
    },
    "tags": []
   },
   "source": [
    "Once you have an answer, run the code cell below to see the solution.  Viewing the solution will give you credit for answering the problem."
   ]
  },
  {
   "cell_type": "code",
   "execution_count": 10,
   "id": "a00efe12",
   "metadata": {
    "execution": {
     "iopub.execute_input": "2023-07-11T07:30:58.356208Z",
     "iopub.status.busy": "2023-07-11T07:30:58.355795Z",
     "iopub.status.idle": "2023-07-11T07:30:58.364532Z",
     "shell.execute_reply": "2023-07-11T07:30:58.363686Z"
    },
    "papermill": {
     "duration": 0.02208,
     "end_time": "2023-07-11T07:30:58.366893",
     "exception": false,
     "start_time": "2023-07-11T07:30:58.344813",
     "status": "completed"
    },
    "tags": []
   },
   "outputs": [
    {
     "data": {
      "application/javascript": [
       "parent.postMessage({\"jupyterEvent\": \"custom.exercise_interaction\", \"data\": {\"outcomeType\": 1, \"valueTowardsCompletion\": 0.2, \"interactionType\": 1, \"questionType\": 4, \"questionId\": \"4_AddingBooleans\", \"learnToolsVersion\": \"0.3.4\", \"failureMessage\": \"\", \"exceptionClass\": \"\", \"trace\": \"\"}}, \"*\")"
      ],
      "text/plain": [
       "<IPython.core.display.Javascript object>"
      ]
     },
     "metadata": {},
     "output_type": "display_data"
    },
    {
     "data": {
      "text/markdown": [
       "<span style=\"color:#33cc33\">Correct:</span> \n",
       "\n",
       "When you add booleans, adding `False` is equivalent to adding 0, and adding `True` is equivalent to adding 1."
      ],
      "text/plain": [
       "Correct: \n",
       "\n",
       "When you add booleans, adding `False` is equivalent to adding 0, and adding `True` is equivalent to adding 1."
      ]
     },
     "metadata": {},
     "output_type": "display_data"
    }
   ],
   "source": [
    "# Check your answer (Run this code cell to receive credit!)\n",
    "q4.check()"
   ]
  },
  {
   "cell_type": "markdown",
   "id": "7b8d4266",
   "metadata": {
    "papermill": {
     "duration": 0.009653,
     "end_time": "2023-07-11T07:30:58.386671",
     "exception": false,
     "start_time": "2023-07-11T07:30:58.377018",
     "status": "completed"
    },
    "tags": []
   },
   "source": [
    "# 🌶️ Question 5\n",
    "\n",
    "You own an online shop where you sell rings with custom engravings.  You offer both gold plated and solid gold rings.\n",
    "- Gold plated rings have a base cost of \\\\$50, and you charge \\\\$7 per engraved unit.  \n",
    "- Solid gold rings have a base cost of \\\\$100, and you charge \\\\$10 per engraved unit.\n",
    "- Spaces and punctuation are counted as engraved units.\n",
    "\n",
    "Write a function `cost_of_project()` that takes two arguments:\n",
    "- `engraving` - a Python string with the text of the engraving\n",
    "- `solid_gold` - a Boolean that indicates whether the ring is solid gold\n",
    "\n",
    "It should return the cost of the project.  This question should be fairly challenging, and you may need a hint."
   ]
  },
  {
   "cell_type": "code",
   "execution_count": 11,
   "id": "b92c561e",
   "metadata": {
    "execution": {
     "iopub.execute_input": "2023-07-11T07:30:58.408434Z",
     "iopub.status.busy": "2023-07-11T07:30:58.408052Z",
     "iopub.status.idle": "2023-07-11T07:30:58.420335Z",
     "shell.execute_reply": "2023-07-11T07:30:58.419150Z"
    },
    "papermill": {
     "duration": 0.026035,
     "end_time": "2023-07-11T07:30:58.422687",
     "exception": false,
     "start_time": "2023-07-11T07:30:58.396652",
     "status": "completed"
    },
    "tags": []
   },
   "outputs": [
    {
     "data": {
      "application/javascript": [
       "parent.postMessage({\"jupyterEvent\": \"custom.exercise_interaction\", \"data\": {\"outcomeType\": 1, \"valueTowardsCompletion\": 0.2, \"interactionType\": 1, \"questionType\": 2, \"questionId\": \"5_CustomEngravings\", \"learnToolsVersion\": \"0.3.4\", \"failureMessage\": \"\", \"exceptionClass\": \"\", \"trace\": \"\"}}, \"*\")"
      ],
      "text/plain": [
       "<IPython.core.display.Javascript object>"
      ]
     },
     "metadata": {},
     "output_type": "display_data"
    },
    {
     "data": {
      "text/markdown": [
       "<span style=\"color:#33cc33\">Correct</span>"
      ],
      "text/plain": [
       "Correct"
      ]
     },
     "metadata": {},
     "output_type": "display_data"
    }
   ],
   "source": [
    "def cost_of_project(engraving, solid_gold):\n",
    "    cost = solid_gold * (100 + 10 * len(engraving)) + (not solid_gold) * (50 + 7 * len(engraving))\n",
    "    return cost\n",
    "\n",
    "# Check your answer\n",
    "q5.check()"
   ]
  },
  {
   "cell_type": "code",
   "execution_count": 12,
   "id": "5f0600f3",
   "metadata": {
    "execution": {
     "iopub.execute_input": "2023-07-11T07:30:58.445414Z",
     "iopub.status.busy": "2023-07-11T07:30:58.444975Z",
     "iopub.status.idle": "2023-07-11T07:30:58.449752Z",
     "shell.execute_reply": "2023-07-11T07:30:58.448530Z"
    },
    "papermill": {
     "duration": 0.018827,
     "end_time": "2023-07-11T07:30:58.452059",
     "exception": false,
     "start_time": "2023-07-11T07:30:58.433232",
     "status": "completed"
    },
    "tags": []
   },
   "outputs": [],
   "source": [
    "# Uncomment to see a hint\n",
    "#q5.hint()\n",
    "\n",
    "# Uncomment to view the solution\n",
    "#q5.solution()"
   ]
  },
  {
   "cell_type": "markdown",
   "id": "bbc93880",
   "metadata": {
    "papermill": {
     "duration": 0.010603,
     "end_time": "2023-07-11T07:30:58.473631",
     "exception": false,
     "start_time": "2023-07-11T07:30:58.463028",
     "status": "completed"
    },
    "tags": []
   },
   "source": [
    "Run the next code cell to calculate the cost of engraving `Charlie+Denver` on a solid gold ring."
   ]
  },
  {
   "cell_type": "code",
   "execution_count": 13,
   "id": "2fb8c47a",
   "metadata": {
    "execution": {
     "iopub.execute_input": "2023-07-11T07:30:58.496051Z",
     "iopub.status.busy": "2023-07-11T07:30:58.495623Z",
     "iopub.status.idle": "2023-07-11T07:30:58.502344Z",
     "shell.execute_reply": "2023-07-11T07:30:58.501007Z"
    },
    "papermill": {
     "duration": 0.020821,
     "end_time": "2023-07-11T07:30:58.504830",
     "exception": false,
     "start_time": "2023-07-11T07:30:58.484009",
     "status": "completed"
    },
    "tags": []
   },
   "outputs": [
    {
     "name": "stdout",
     "output_type": "stream",
     "text": [
      "240\n"
     ]
    }
   ],
   "source": [
    "project_one = cost_of_project(\"Charlie+Denver\", True)\n",
    "print(project_one)"
   ]
  },
  {
   "cell_type": "markdown",
   "id": "a5db698c",
   "metadata": {
    "papermill": {
     "duration": 0.010222,
     "end_time": "2023-07-11T07:30:58.525858",
     "exception": false,
     "start_time": "2023-07-11T07:30:58.515636",
     "status": "completed"
    },
    "tags": []
   },
   "source": [
    "Use the next code cell to calculate the cost of engraving `08/10/2000` on a gold plated ring."
   ]
  },
  {
   "cell_type": "code",
   "execution_count": 14,
   "id": "b830e8a4",
   "metadata": {
    "execution": {
     "iopub.execute_input": "2023-07-11T07:30:58.548968Z",
     "iopub.status.busy": "2023-07-11T07:30:58.548561Z",
     "iopub.status.idle": "2023-07-11T07:30:58.554503Z",
     "shell.execute_reply": "2023-07-11T07:30:58.553421Z"
    },
    "papermill": {
     "duration": 0.020609,
     "end_time": "2023-07-11T07:30:58.557010",
     "exception": false,
     "start_time": "2023-07-11T07:30:58.536401",
     "status": "completed"
    },
    "tags": []
   },
   "outputs": [
    {
     "name": "stdout",
     "output_type": "stream",
     "text": [
      "120\n"
     ]
    }
   ],
   "source": [
    "project_two = cost_of_project(\"08/10/2000\", False)\n",
    "print(project_two)"
   ]
  },
  {
   "cell_type": "markdown",
   "id": "41522dbb",
   "metadata": {
    "papermill": {
     "duration": 0.011161,
     "end_time": "2023-07-11T07:30:58.579013",
     "exception": false,
     "start_time": "2023-07-11T07:30:58.567852",
     "status": "completed"
    },
    "tags": []
   },
   "source": [
    "# Keep going\n",
    "\n",
    "Continue to the next lesson to **[learn about conditions and conditional statements](https://www.kaggle.com/alexisbcook/conditions-and-conditional-statements)**."
   ]
  },
  {
   "cell_type": "markdown",
   "id": "ec9d1565",
   "metadata": {
    "papermill": {
     "duration": 0.011272,
     "end_time": "2023-07-11T07:30:58.601335",
     "exception": false,
     "start_time": "2023-07-11T07:30:58.590063",
     "status": "completed"
    },
    "tags": []
   },
   "source": [
    "---\n",
    "\n",
    "\n",
    "\n",
    "\n",
    "*Have questions or comments? Visit the [course discussion forum](https://www.kaggle.com/learn/intro-to-programming/discussion) to chat with other learners.*"
   ]
  }
 ],
 "metadata": {
  "kernelspec": {
   "display_name": "Python 3",
   "language": "python",
   "name": "python3"
  },
  "language_info": {
   "codemirror_mode": {
    "name": "ipython",
    "version": 3
   },
   "file_extension": ".py",
   "mimetype": "text/x-python",
   "name": "python",
   "nbconvert_exporter": "python",
   "pygments_lexer": "ipython3",
   "version": "3.10.12"
  },
  "papermill": {
   "default_parameters": {},
   "duration": 13.41378,
   "end_time": "2023-07-11T07:30:59.535848",
   "environment_variables": {},
   "exception": null,
   "input_path": "__notebook__.ipynb",
   "output_path": "__notebook__.ipynb",
   "parameters": {},
   "start_time": "2023-07-11T07:30:46.122068",
   "version": "2.4.0"
  }
 },
 "nbformat": 4,
 "nbformat_minor": 5
}
