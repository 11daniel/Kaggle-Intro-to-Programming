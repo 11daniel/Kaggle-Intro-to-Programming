{
 "cells": [
  {
   "cell_type": "markdown",
   "id": "afa67a7d",
   "metadata": {
    "papermill": {
     "duration": 0.009257,
     "end_time": "2023-11-10T12:09:03.450581",
     "exception": false,
     "start_time": "2023-11-10T12:09:03.441324",
     "status": "completed"
    },
    "tags": []
   },
   "source": [
    "**This notebook is an exercise in the [Intro to Programming](https://www.kaggle.com/learn/intro-to-programming) course.  You can reference the tutorial at [this link](https://www.kaggle.com/alexisbcook/data-types).**\n",
    "\n",
    "---\n"
   ]
  },
  {
   "cell_type": "markdown",
   "id": "b4110f13",
   "metadata": {
    "papermill": {
     "duration": 0.007255,
     "end_time": "2023-11-10T12:09:03.465782",
     "exception": false,
     "start_time": "2023-11-10T12:09:03.458527",
     "status": "completed"
    },
    "tags": []
   },
   "source": [
    "In the tutorial, you learned about four different data types: floats, integers, strings, and booleans.  In this exercise, you'll experiment with them.\n",
    "\n",
    "# Set up the notebook\n",
    "\n",
    "Run the next code cell without changes to set up the notebook."
   ]
  },
  {
   "cell_type": "code",
   "execution_count": 1,
   "id": "512e4067",
   "metadata": {
    "execution": {
     "iopub.execute_input": "2023-11-10T12:09:03.483601Z",
     "iopub.status.busy": "2023-11-10T12:09:03.482843Z",
     "iopub.status.idle": "2023-11-10T12:09:03.956971Z",
     "shell.execute_reply": "2023-11-10T12:09:03.955776Z"
    },
    "papermill": {
     "duration": 0.485838,
     "end_time": "2023-11-10T12:09:03.959677",
     "exception": false,
     "start_time": "2023-11-10T12:09:03.473839",
     "status": "completed"
    },
    "tags": []
   },
   "outputs": [
    {
     "name": "stdout",
     "output_type": "stream",
     "text": [
      "Setup complete.\n"
     ]
    }
   ],
   "source": [
    "# Set up the exercise\n",
    "from learntools.core import binder\n",
    "binder.bind(globals())\n",
    "from learntools.intro_to_programming.ex3 import *\n",
    "print('Setup complete.')"
   ]
  },
  {
   "cell_type": "markdown",
   "id": "29ea42d3",
   "metadata": {
    "papermill": {
     "duration": 0.007162,
     "end_time": "2023-11-10T12:09:03.974453",
     "exception": false,
     "start_time": "2023-11-10T12:09:03.967291",
     "status": "completed"
    },
    "tags": []
   },
   "source": [
    "# Question 1\n",
    "\n",
    "You have seen how to convert a float to an integer with the `int` function.  Try this out yourself by running the code cell below."
   ]
  },
  {
   "cell_type": "code",
   "execution_count": 2,
   "id": "204e96c1",
   "metadata": {
    "execution": {
     "iopub.execute_input": "2023-11-10T12:09:03.991937Z",
     "iopub.status.busy": "2023-11-10T12:09:03.990957Z",
     "iopub.status.idle": "2023-11-10T12:09:03.998153Z",
     "shell.execute_reply": "2023-11-10T12:09:03.997019Z"
    },
    "papermill": {
     "duration": 0.018732,
     "end_time": "2023-11-10T12:09:04.000610",
     "exception": false,
     "start_time": "2023-11-10T12:09:03.981878",
     "status": "completed"
    },
    "tags": []
   },
   "outputs": [
    {
     "name": "stdout",
     "output_type": "stream",
     "text": [
      "1.0\n",
      "<class 'float'>\n",
      "1\n",
      "<class 'int'>\n"
     ]
    }
   ],
   "source": [
    "# Define a float\n",
    "y = 1.\n",
    "print(y)\n",
    "print(type(y))\n",
    "\n",
    "# Convert float to integer with the int function\n",
    "z = int(y)\n",
    "print(z)\n",
    "print(type(z))"
   ]
  },
  {
   "cell_type": "markdown",
   "id": "bab0e9ee",
   "metadata": {
    "papermill": {
     "duration": 0.007399,
     "end_time": "2023-11-10T12:09:04.015755",
     "exception": false,
     "start_time": "2023-11-10T12:09:04.008356",
     "status": "completed"
    },
    "tags": []
   },
   "source": [
    "In this case, the float you are using has no numbers after the decimal.  \n",
    "- But what happens when you try to convert a float with a fractional part to an integer?  \n",
    "- How does the outcome of the `int` function change for positive and negative numbers?\n",
    "\n",
    "Use the next code cell to investigate and answer these questions.  Feel free to add or remove any lines of code -- it is your workspace!"
   ]
  },
  {
   "cell_type": "code",
   "execution_count": 3,
   "id": "0f38f803",
   "metadata": {
    "execution": {
     "iopub.execute_input": "2023-11-10T12:09:04.033024Z",
     "iopub.status.busy": "2023-11-10T12:09:04.032575Z",
     "iopub.status.idle": "2023-11-10T12:09:04.038472Z",
     "shell.execute_reply": "2023-11-10T12:09:04.037332Z"
    },
    "papermill": {
     "duration": 0.018333,
     "end_time": "2023-11-10T12:09:04.041865",
     "exception": false,
     "start_time": "2023-11-10T12:09:04.023532",
     "status": "completed"
    },
    "tags": []
   },
   "outputs": [
    {
     "name": "stdout",
     "output_type": "stream",
     "text": [
      "1\n",
      "1\n",
      "-3\n",
      "-2\n"
     ]
    }
   ],
   "source": [
    "# Uncomment and run this code to get started!\n",
    "print(int(1.2321))\n",
    "print(int(1.747))\n",
    "print(int(-3.94535))\n",
    "print(int(-2.19774))"
   ]
  },
  {
   "cell_type": "markdown",
   "id": "54c85332",
   "metadata": {
    "papermill": {
     "duration": 0.007737,
     "end_time": "2023-11-10T12:09:04.057471",
     "exception": false,
     "start_time": "2023-11-10T12:09:04.049734",
     "status": "completed"
    },
    "tags": []
   },
   "source": [
    "Once you have an answer, run the code cell below to see the solution.  Viewing the solution will give you credit for answering the problem."
   ]
  },
  {
   "cell_type": "code",
   "execution_count": 4,
   "id": "7e47f47e",
   "metadata": {
    "execution": {
     "iopub.execute_input": "2023-11-10T12:09:04.075494Z",
     "iopub.status.busy": "2023-11-10T12:09:04.075103Z",
     "iopub.status.idle": "2023-11-10T12:09:04.085875Z",
     "shell.execute_reply": "2023-11-10T12:09:04.084141Z"
    },
    "papermill": {
     "duration": 0.023988,
     "end_time": "2023-11-10T12:09:04.089730",
     "exception": false,
     "start_time": "2023-11-10T12:09:04.065742",
     "status": "completed"
    },
    "tags": []
   },
   "outputs": [
    {
     "data": {
      "application/javascript": [
       "parent.postMessage({\"jupyterEvent\": \"custom.exercise_interaction\", \"data\": {\"outcomeType\": 1, \"valueTowardsCompletion\": 0.2, \"interactionType\": 1, \"questionType\": 4, \"questionId\": \"1_FloatToInt\", \"learnToolsVersion\": \"0.3.4\", \"failureMessage\": \"\", \"exceptionClass\": \"\", \"trace\": \"\"}}, \"*\")"
      ],
      "text/plain": [
       "<IPython.core.display.Javascript object>"
      ]
     },
     "metadata": {},
     "output_type": "display_data"
    },
    {
     "data": {
      "text/markdown": [
       "<span style=\"color:#33cc33\">Correct:</span> \n",
       "\n",
       "Negative floats are always rounded UP to the closest integer (for instance, both -1.1 and -1.9 are rounded up to -1). Positive floats are always rounded DOWN to the closest integer (for instance, 2.1 and 2.9 are rounded down to 2)."
      ],
      "text/plain": [
       "Correct: \n",
       "\n",
       "Negative floats are always rounded UP to the closest integer (for instance, both -1.1 and -1.9 are rounded up to -1). Positive floats are always rounded DOWN to the closest integer (for instance, 2.1 and 2.9 are rounded down to 2)."
      ]
     },
     "metadata": {},
     "output_type": "display_data"
    }
   ],
   "source": [
    "# Check your answer (Run this code cell to receive credit!)\n",
    "q1.check()"
   ]
  },
  {
   "cell_type": "markdown",
   "id": "f7b1e2c0",
   "metadata": {
    "papermill": {
     "duration": 0.008518,
     "end_time": "2023-11-10T12:09:04.107007",
     "exception": false,
     "start_time": "2023-11-10T12:09:04.098489",
     "status": "completed"
    },
    "tags": []
   },
   "source": [
    "# Question 2\n",
    "\n",
    "In the tutorial, you learned about booleans (which can take a value of `True` or `False`), in addition to integers, floats, and strings.  For this question, your goal is to determine what happens when you multiply a boolean by any of these data types.  Specifically, \n",
    "- What happens when you multiply an integer or float by `True`?  What happens when you multiply them by `False`?  How does the answer change if the numbers are positive or negative?\n",
    "- What happens when you multiply a string by `True`?  By `False`?\n",
    "\n",
    "Use the next code cell for your investigation. "
   ]
  },
  {
   "cell_type": "code",
   "execution_count": 5,
   "id": "1d73593a",
   "metadata": {
    "execution": {
     "iopub.execute_input": "2023-11-10T12:09:04.126069Z",
     "iopub.status.busy": "2023-11-10T12:09:04.125620Z",
     "iopub.status.idle": "2023-11-10T12:09:04.132546Z",
     "shell.execute_reply": "2023-11-10T12:09:04.131279Z"
    },
    "papermill": {
     "duration": 0.019538,
     "end_time": "2023-11-10T12:09:04.135218",
     "exception": false,
     "start_time": "2023-11-10T12:09:04.115680",
     "status": "completed"
    },
    "tags": []
   },
   "outputs": [
    {
     "name": "stdout",
     "output_type": "stream",
     "text": [
      "3\n",
      "-3.1\n",
      "<class 'str'>\n",
      "0\n"
     ]
    }
   ],
   "source": [
    "# Uncomment and run this code to get started!\n",
    "print(3 * True)\n",
    "print(-3.1 * True)\n",
    "print(type(\"abc\" * False))\n",
    "print(len(\"abc\" * False))"
   ]
  },
  {
   "cell_type": "markdown",
   "id": "c3cd39c1",
   "metadata": {
    "papermill": {
     "duration": 0.00822,
     "end_time": "2023-11-10T12:09:04.152040",
     "exception": false,
     "start_time": "2023-11-10T12:09:04.143820",
     "status": "completed"
    },
    "tags": []
   },
   "source": [
    "Once you have an answer, run the code cell below to see the solution.  Viewing the solution will give you credit for answering the problem."
   ]
  },
  {
   "cell_type": "code",
   "execution_count": 6,
   "id": "4c44dfae",
   "metadata": {
    "execution": {
     "iopub.execute_input": "2023-11-10T12:09:04.171215Z",
     "iopub.status.busy": "2023-11-10T12:09:04.170734Z",
     "iopub.status.idle": "2023-11-10T12:09:04.180041Z",
     "shell.execute_reply": "2023-11-10T12:09:04.178912Z"
    },
    "papermill": {
     "duration": 0.021992,
     "end_time": "2023-11-10T12:09:04.182650",
     "exception": false,
     "start_time": "2023-11-10T12:09:04.160658",
     "status": "completed"
    },
    "tags": []
   },
   "outputs": [
    {
     "data": {
      "application/javascript": [
       "parent.postMessage({\"jupyterEvent\": \"custom.exercise_interaction\", \"data\": {\"outcomeType\": 1, \"valueTowardsCompletion\": 0.2, \"interactionType\": 1, \"questionType\": 4, \"questionId\": \"2_MultiplyBooleans\", \"learnToolsVersion\": \"0.3.4\", \"failureMessage\": \"\", \"exceptionClass\": \"\", \"trace\": \"\"}}, \"*\")"
      ],
      "text/plain": [
       "<IPython.core.display.Javascript object>"
      ]
     },
     "metadata": {},
     "output_type": "display_data"
    },
    {
     "data": {
      "text/markdown": [
       "<span style=\"color:#33cc33\">Correct:</span> \n",
       "\n",
       "When you multiple an integer or float by a boolean with value `True`, it just returns that same integer or float (and is equivalent to multiplying by 1).  If you multiply an integer or float by a boolean with value `False`, it always returns 0.  This is true for both positive and negative numbers.  If you multiply a string by a boolean with value `True`, it just returns that same string.  And if you multiply a string by a boolean with value `False`, it returns an empty string (or a string with length zero)."
      ],
      "text/plain": [
       "Correct: \n",
       "\n",
       "When you multiple an integer or float by a boolean with value `True`, it just returns that same integer or float (and is equivalent to multiplying by 1).  If you multiply an integer or float by a boolean with value `False`, it always returns 0.  This is true for both positive and negative numbers.  If you multiply a string by a boolean with value `True`, it just returns that same string.  And if you multiply a string by a boolean with value `False`, it returns an empty string (or a string with length zero)."
      ]
     },
     "metadata": {},
     "output_type": "display_data"
    }
   ],
   "source": [
    "# Check your answer (Run this code cell to receive credit!)\n",
    "q2.check()"
   ]
  },
  {
   "cell_type": "markdown",
   "id": "b02313ca",
   "metadata": {
    "papermill": {
     "duration": 0.009187,
     "end_time": "2023-11-10T12:09:04.200902",
     "exception": false,
     "start_time": "2023-11-10T12:09:04.191715",
     "status": "completed"
    },
    "tags": []
   },
   "source": [
    "# Question 3\n",
    "\n",
    "In this question, you will build off your work from the previous exercise to write a function that estimates the value of a house.\n",
    "\n",
    "Use the next code cell to create a function `get_expected_cost` that takes as input three variables:\n",
    "- `beds` - number of bedrooms (data type float)\n",
    "- `baths` - number of bathrooms (data type float)\n",
    "- `has_basement` - whether or not the house has a basement (data type boolean)\n",
    "\n",
    "It should return the expected cost of a house with those characteristics. Assume that:\n",
    "- the expected cost for a house with 0 bedrooms and 0 bathrooms, and no basement is 80000, \n",
    "- each bedroom adds 30000 to the expected cost,\n",
    "- each bathroom adds 10000 to the expected cost, and\n",
    "- a basement adds 40000 to the expected cost.\n",
    "\n",
    "For instance,\n",
    "- a house with 1 bedroom, 1 bathroom, and no basement has an expected cost of 80000 + 30000 + 10000 = 120000.  This value will be calculated with `get_expected_cost(1, 1, False)`.\n",
    "- a house with 2 bedrooms, 1 bathroom, and a basement has an expected cost of 80000 + 2*30000 + 10000 + 40000 = 190000.  This value will be calculated with `get_expected_cost(2, 1, True)`.\n",
    "\n",
    "Remember you can always get a hint by uncommenting `q3.hint()` in the code cell following the next!"
   ]
  },
  {
   "cell_type": "code",
   "execution_count": 7,
   "id": "2a54312d",
   "metadata": {
    "execution": {
     "iopub.execute_input": "2023-11-10T12:09:04.221007Z",
     "iopub.status.busy": "2023-11-10T12:09:04.220591Z",
     "iopub.status.idle": "2023-11-10T12:09:04.230676Z",
     "shell.execute_reply": "2023-11-10T12:09:04.229686Z"
    },
    "papermill": {
     "duration": 0.023026,
     "end_time": "2023-11-10T12:09:04.233000",
     "exception": false,
     "start_time": "2023-11-10T12:09:04.209974",
     "status": "completed"
    },
    "tags": []
   },
   "outputs": [
    {
     "data": {
      "application/javascript": [
       "parent.postMessage({\"jupyterEvent\": \"custom.exercise_interaction\", \"data\": {\"outcomeType\": 1, \"valueTowardsCompletion\": 0.2, \"interactionType\": 1, \"questionType\": 2, \"questionId\": \"3_EstimateHouseValueBool\", \"learnToolsVersion\": \"0.3.4\", \"failureMessage\": \"\", \"exceptionClass\": \"\", \"trace\": \"\"}}, \"*\")"
      ],
      "text/plain": [
       "<IPython.core.display.Javascript object>"
      ]
     },
     "metadata": {},
     "output_type": "display_data"
    },
    {
     "data": {
      "text/markdown": [
       "<span style=\"color:#33cc33\">Correct</span>"
      ],
      "text/plain": [
       "Correct"
      ]
     },
     "metadata": {},
     "output_type": "display_data"
    }
   ],
   "source": [
    "# TODO: Complete the function\n",
    "def get_expected_cost(beds, baths, has_basement):\n",
    "    value = 80000 + 30000 * beds + 10000 * baths + 40000 * has_basement\n",
    "    return value\n",
    "\n",
    "# Check your answer \n",
    "q3.check()"
   ]
  },
  {
   "cell_type": "code",
   "execution_count": 8,
   "id": "e4cf6651",
   "metadata": {
    "execution": {
     "iopub.execute_input": "2023-11-10T12:09:04.253500Z",
     "iopub.status.busy": "2023-11-10T12:09:04.252813Z",
     "iopub.status.idle": "2023-11-10T12:09:04.265047Z",
     "shell.execute_reply": "2023-11-10T12:09:04.263959Z"
    },
    "papermill": {
     "duration": 0.025419,
     "end_time": "2023-11-10T12:09:04.267780",
     "exception": false,
     "start_time": "2023-11-10T12:09:04.242361",
     "status": "completed"
    },
    "tags": []
   },
   "outputs": [
    {
     "data": {
      "application/javascript": [
       "parent.postMessage({\"jupyterEvent\": \"custom.exercise_interaction\", \"data\": {\"interactionType\": 2, \"questionType\": 2, \"questionId\": \"3_EstimateHouseValueBool\", \"learnToolsVersion\": \"0.3.4\", \"valueTowardsCompletion\": 0.0, \"failureMessage\": \"\", \"exceptionClass\": \"\", \"trace\": \"\", \"outcomeType\": 4}}, \"*\")"
      ],
      "text/plain": [
       "<IPython.core.display.Javascript object>"
      ]
     },
     "metadata": {},
     "output_type": "display_data"
    },
    {
     "data": {
      "text/markdown": [
       "<span style=\"color:#3366cc\">Hint:</span> The variable `has_basement` is either `True` or `False`.  What happens when you multiply it by 40000 (the value of a basement)?  Refer to the previous question if you are unsure."
      ],
      "text/plain": [
       "Hint: The variable `has_basement` is either `True` or `False`.  What happens when you multiply it by 40000 (the value of a basement)?  Refer to the previous question if you are unsure."
      ]
     },
     "metadata": {},
     "output_type": "display_data"
    },
    {
     "data": {
      "application/javascript": [
       "parent.postMessage({\"jupyterEvent\": \"custom.exercise_interaction\", \"data\": {\"interactionType\": 3, \"questionType\": 2, \"questionId\": \"3_EstimateHouseValueBool\", \"learnToolsVersion\": \"0.3.4\", \"valueTowardsCompletion\": 0.0, \"failureMessage\": \"\", \"exceptionClass\": \"\", \"trace\": \"\", \"outcomeType\": 4}}, \"*\")"
      ],
      "text/plain": [
       "<IPython.core.display.Javascript object>"
      ]
     },
     "metadata": {},
     "output_type": "display_data"
    },
    {
     "data": {
      "text/markdown": [
       "<span style=\"color:#33cc99\">Solution:</span> \n",
       "```python\n",
       "def get_expected_cost(beds, baths, has_basement):\n",
       "    value = 80000 + 30000 * beds + 10000 * baths + 40000 * has_basement\n",
       "    return value\n",
       "\n",
       "```"
      ],
      "text/plain": [
       "Solution: \n",
       "```python\n",
       "def get_expected_cost(beds, baths, has_basement):\n",
       "    value = 80000 + 30000 * beds + 10000 * baths + 40000 * has_basement\n",
       "    return value\n",
       "\n",
       "```"
      ]
     },
     "metadata": {},
     "output_type": "display_data"
    }
   ],
   "source": [
    "# Uncomment to see a hint\n",
    "q3.hint()\n",
    "\n",
    "# Uncomment to view the solution\n",
    "q3.solution()"
   ]
  },
  {
   "cell_type": "markdown",
   "id": "28993855",
   "metadata": {
    "papermill": {
     "duration": 0.010013,
     "end_time": "2023-11-10T12:09:04.289040",
     "exception": false,
     "start_time": "2023-11-10T12:09:04.279027",
     "status": "completed"
    },
    "tags": []
   },
   "source": [
    "# Question 4\n",
    "\n",
    "We'll continue our study of boolean arithmetic.  For this question, your task is to provide a description of what happpens when you add booleans. \n",
    "\n",
    "Use the next code cell for your investigation.  Feel free to add or remove any lines of code - use it as your workspace!"
   ]
  },
  {
   "cell_type": "code",
   "execution_count": 9,
   "id": "fea4f8ed",
   "metadata": {
    "execution": {
     "iopub.execute_input": "2023-11-10T12:09:04.311526Z",
     "iopub.status.busy": "2023-11-10T12:09:04.311117Z",
     "iopub.status.idle": "2023-11-10T12:09:04.317496Z",
     "shell.execute_reply": "2023-11-10T12:09:04.316356Z"
    },
    "papermill": {
     "duration": 0.020679,
     "end_time": "2023-11-10T12:09:04.320225",
     "exception": false,
     "start_time": "2023-11-10T12:09:04.299546",
     "status": "completed"
    },
    "tags": []
   },
   "outputs": [
    {
     "name": "stdout",
     "output_type": "stream",
     "text": [
      "0\n",
      "1\n",
      "1\n",
      "2\n",
      "3\n"
     ]
    }
   ],
   "source": [
    "print(False + False)\n",
    "print(True + False)\n",
    "print(False + True)\n",
    "print(True + True)\n",
    "print(False + True + True + True)"
   ]
  },
  {
   "cell_type": "markdown",
   "id": "2fc12f98",
   "metadata": {
    "papermill": {
     "duration": 0.01031,
     "end_time": "2023-11-10T12:09:04.341333",
     "exception": false,
     "start_time": "2023-11-10T12:09:04.331023",
     "status": "completed"
    },
    "tags": []
   },
   "source": [
    "Once you have an answer, run the code cell below to see the solution.  Viewing the solution will give you credit for answering the problem."
   ]
  },
  {
   "cell_type": "code",
   "execution_count": 10,
   "id": "d893e4ff",
   "metadata": {
    "execution": {
     "iopub.execute_input": "2023-11-10T12:09:04.364456Z",
     "iopub.status.busy": "2023-11-10T12:09:04.364017Z",
     "iopub.status.idle": "2023-11-10T12:09:04.373236Z",
     "shell.execute_reply": "2023-11-10T12:09:04.372086Z"
    },
    "papermill": {
     "duration": 0.02348,
     "end_time": "2023-11-10T12:09:04.375730",
     "exception": false,
     "start_time": "2023-11-10T12:09:04.352250",
     "status": "completed"
    },
    "tags": []
   },
   "outputs": [
    {
     "data": {
      "application/javascript": [
       "parent.postMessage({\"jupyterEvent\": \"custom.exercise_interaction\", \"data\": {\"outcomeType\": 1, \"valueTowardsCompletion\": 0.2, \"interactionType\": 1, \"questionType\": 4, \"questionId\": \"4_AddingBooleans\", \"learnToolsVersion\": \"0.3.4\", \"failureMessage\": \"\", \"exceptionClass\": \"\", \"trace\": \"\"}}, \"*\")"
      ],
      "text/plain": [
       "<IPython.core.display.Javascript object>"
      ]
     },
     "metadata": {},
     "output_type": "display_data"
    },
    {
     "data": {
      "text/markdown": [
       "<span style=\"color:#33cc33\">Correct:</span> \n",
       "\n",
       "When you add booleans, adding `False` is equivalent to adding 0, and adding `True` is equivalent to adding 1."
      ],
      "text/plain": [
       "Correct: \n",
       "\n",
       "When you add booleans, adding `False` is equivalent to adding 0, and adding `True` is equivalent to adding 1."
      ]
     },
     "metadata": {},
     "output_type": "display_data"
    }
   ],
   "source": [
    "# Check your answer (Run this code cell to receive credit!)\n",
    "q4.check()"
   ]
  },
  {
   "cell_type": "markdown",
   "id": "5ab51c85",
   "metadata": {
    "papermill": {
     "duration": 0.010641,
     "end_time": "2023-11-10T12:09:04.397228",
     "exception": false,
     "start_time": "2023-11-10T12:09:04.386587",
     "status": "completed"
    },
    "tags": []
   },
   "source": [
    "# 🌶️ Question 5\n",
    "\n",
    "You own an online shop where you sell rings with custom engravings.  You offer both gold plated and solid gold rings.\n",
    "- Gold plated rings have a base cost of \\\\$50, and you charge \\\\$7 per engraved unit.  \n",
    "- Solid gold rings have a base cost of \\\\$100, and you charge \\\\$10 per engraved unit.\n",
    "- Spaces and punctuation are counted as engraved units.\n",
    "\n",
    "Write a function `cost_of_project()` that takes two arguments:\n",
    "- `engraving` - a Python string with the text of the engraving\n",
    "- `solid_gold` - a Boolean that indicates whether the ring is solid gold\n",
    "\n",
    "It should return the cost of the project.  This question should be fairly challenging, and you may need a hint."
   ]
  },
  {
   "cell_type": "code",
   "execution_count": 11,
   "id": "7c29b38d",
   "metadata": {
    "execution": {
     "iopub.execute_input": "2023-11-10T12:09:04.420650Z",
     "iopub.status.busy": "2023-11-10T12:09:04.420184Z",
     "iopub.status.idle": "2023-11-10T12:09:04.430480Z",
     "shell.execute_reply": "2023-11-10T12:09:04.429425Z"
    },
    "papermill": {
     "duration": 0.024899,
     "end_time": "2023-11-10T12:09:04.432910",
     "exception": false,
     "start_time": "2023-11-10T12:09:04.408011",
     "status": "completed"
    },
    "tags": []
   },
   "outputs": [
    {
     "data": {
      "application/javascript": [
       "parent.postMessage({\"jupyterEvent\": \"custom.exercise_interaction\", \"data\": {\"outcomeType\": 1, \"valueTowardsCompletion\": 0.2, \"interactionType\": 1, \"questionType\": 2, \"questionId\": \"5_CustomEngravings\", \"learnToolsVersion\": \"0.3.4\", \"failureMessage\": \"\", \"exceptionClass\": \"\", \"trace\": \"\"}}, \"*\")"
      ],
      "text/plain": [
       "<IPython.core.display.Javascript object>"
      ]
     },
     "metadata": {},
     "output_type": "display_data"
    },
    {
     "data": {
      "text/markdown": [
       "<span style=\"color:#33cc33\">Correct</span>"
      ],
      "text/plain": [
       "Correct"
      ]
     },
     "metadata": {},
     "output_type": "display_data"
    }
   ],
   "source": [
    "def cost_of_project(engraving, solid_gold):\n",
    "    cost = solid_gold * (100 + 10 * len(engraving)) + (not solid_gold) * (50 + 7 * len(engraving))\n",
    "    return cost\n",
    "\n",
    "# Check your answer\n",
    "q5.check()"
   ]
  },
  {
   "cell_type": "code",
   "execution_count": 12,
   "id": "5f4a3380",
   "metadata": {
    "execution": {
     "iopub.execute_input": "2023-11-10T12:09:04.457243Z",
     "iopub.status.busy": "2023-11-10T12:09:04.456805Z",
     "iopub.status.idle": "2023-11-10T12:09:04.471206Z",
     "shell.execute_reply": "2023-11-10T12:09:04.469944Z"
    },
    "papermill": {
     "duration": 0.029603,
     "end_time": "2023-11-10T12:09:04.473719",
     "exception": false,
     "start_time": "2023-11-10T12:09:04.444116",
     "status": "completed"
    },
    "tags": []
   },
   "outputs": [
    {
     "data": {
      "application/javascript": [
       "parent.postMessage({\"jupyterEvent\": \"custom.exercise_interaction\", \"data\": {\"interactionType\": 2, \"questionType\": 2, \"questionId\": \"5_CustomEngravings\", \"learnToolsVersion\": \"0.3.4\", \"valueTowardsCompletion\": 0.0, \"failureMessage\": \"\", \"exceptionClass\": \"\", \"trace\": \"\", \"outcomeType\": 4}}, \"*\")"
      ],
      "text/plain": [
       "<IPython.core.display.Javascript object>"
      ]
     },
     "metadata": {},
     "output_type": "display_data"
    },
    {
     "data": {
      "text/markdown": [
       "<span style=\"color:#3366cc\">Hint:</span> There are two options - either the project uses solid gold or does not.  With this in mind, you can structure your solution like this: `cost = solid_gold * ____ + (not solid_gold) * ____`.  You need to figure out how to fill in the blanks. Also, remember that:\n",
       "- If `solid_gold = True`, then `(not solid_gold) = False`, and if `solid_gold = False`, then `(not solid_gold) = True`.\n",
       "- Multiplying an integer by `True` is equivalent to multiplying it by 1, and multiplying an integer by `False` is equivalent to multiplying it by 0."
      ],
      "text/plain": [
       "Hint: There are two options - either the project uses solid gold or does not.  With this in mind, you can structure your solution like this: `cost = solid_gold * ____ + (not solid_gold) * ____`.  You need to figure out how to fill in the blanks. Also, remember that:\n",
       "- If `solid_gold = True`, then `(not solid_gold) = False`, and if `solid_gold = False`, then `(not solid_gold) = True`.\n",
       "- Multiplying an integer by `True` is equivalent to multiplying it by 1, and multiplying an integer by `False` is equivalent to multiplying it by 0."
      ]
     },
     "metadata": {},
     "output_type": "display_data"
    },
    {
     "data": {
      "application/javascript": [
       "parent.postMessage({\"jupyterEvent\": \"custom.exercise_interaction\", \"data\": {\"interactionType\": 3, \"questionType\": 2, \"questionId\": \"5_CustomEngravings\", \"learnToolsVersion\": \"0.3.4\", \"valueTowardsCompletion\": 0.0, \"failureMessage\": \"\", \"exceptionClass\": \"\", \"trace\": \"\", \"outcomeType\": 4}}, \"*\")"
      ],
      "text/plain": [
       "<IPython.core.display.Javascript object>"
      ]
     },
     "metadata": {},
     "output_type": "display_data"
    },
    {
     "data": {
      "text/markdown": [
       "<span style=\"color:#33cc99\">Solution:</span> \n",
       "```python\n",
       "def cost_of_project(engraving, solid_gold):\n",
       "    cost = solid_gold * (100 + 10 * len(engraving)) + (not solid_gold) * (50 + 7 * len(engraving))\n",
       "    return cost\n",
       "\n",
       "```"
      ],
      "text/plain": [
       "Solution: \n",
       "```python\n",
       "def cost_of_project(engraving, solid_gold):\n",
       "    cost = solid_gold * (100 + 10 * len(engraving)) + (not solid_gold) * (50 + 7 * len(engraving))\n",
       "    return cost\n",
       "\n",
       "```"
      ]
     },
     "metadata": {},
     "output_type": "display_data"
    }
   ],
   "source": [
    "# Uncomment to see a hint\n",
    "q5.hint()\n",
    "\n",
    "# Uncomment to view the solution\n",
    "q5.solution()"
   ]
  },
  {
   "cell_type": "markdown",
   "id": "58e11d16",
   "metadata": {
    "papermill": {
     "duration": 0.012264,
     "end_time": "2023-11-10T12:09:04.497994",
     "exception": false,
     "start_time": "2023-11-10T12:09:04.485730",
     "status": "completed"
    },
    "tags": []
   },
   "source": [
    "Run the next code cell to calculate the cost of engraving `Charlie+Denver` on a solid gold ring."
   ]
  },
  {
   "cell_type": "code",
   "execution_count": 13,
   "id": "1eb54cd1",
   "metadata": {
    "execution": {
     "iopub.execute_input": "2023-11-10T12:09:04.523709Z",
     "iopub.status.busy": "2023-11-10T12:09:04.523342Z",
     "iopub.status.idle": "2023-11-10T12:09:04.528887Z",
     "shell.execute_reply": "2023-11-10T12:09:04.527666Z"
    },
    "papermill": {
     "duration": 0.02164,
     "end_time": "2023-11-10T12:09:04.531622",
     "exception": false,
     "start_time": "2023-11-10T12:09:04.509982",
     "status": "completed"
    },
    "tags": []
   },
   "outputs": [
    {
     "name": "stdout",
     "output_type": "stream",
     "text": [
      "240\n"
     ]
    }
   ],
   "source": [
    "project_one = cost_of_project(\"Charlie+Denver\", True)\n",
    "print(project_one)"
   ]
  },
  {
   "cell_type": "markdown",
   "id": "54126f34",
   "metadata": {
    "papermill": {
     "duration": 0.012615,
     "end_time": "2023-11-10T12:09:04.556253",
     "exception": false,
     "start_time": "2023-11-10T12:09:04.543638",
     "status": "completed"
    },
    "tags": []
   },
   "source": [
    "Use the next code cell to calculate the cost of engraving `08/10/2000` on a gold plated ring."
   ]
  },
  {
   "cell_type": "code",
   "execution_count": 14,
   "id": "81e5fcfc",
   "metadata": {
    "execution": {
     "iopub.execute_input": "2023-11-10T12:09:04.584782Z",
     "iopub.status.busy": "2023-11-10T12:09:04.584355Z",
     "iopub.status.idle": "2023-11-10T12:09:04.589760Z",
     "shell.execute_reply": "2023-11-10T12:09:04.588495Z"
    },
    "papermill": {
     "duration": 0.023997,
     "end_time": "2023-11-10T12:09:04.593101",
     "exception": false,
     "start_time": "2023-11-10T12:09:04.569104",
     "status": "completed"
    },
    "tags": []
   },
   "outputs": [
    {
     "name": "stdout",
     "output_type": "stream",
     "text": [
      "120\n"
     ]
    }
   ],
   "source": [
    "project_two = cost_of_project(\"08/10/2000\", False)\n",
    "print(project_two)"
   ]
  },
  {
   "cell_type": "markdown",
   "id": "a9787f78",
   "metadata": {
    "papermill": {
     "duration": 0.012054,
     "end_time": "2023-11-10T12:09:04.617642",
     "exception": false,
     "start_time": "2023-11-10T12:09:04.605588",
     "status": "completed"
    },
    "tags": []
   },
   "source": [
    "# Keep going\n",
    "\n",
    "Continue to the next lesson to **[learn about conditions and conditional statements](https://www.kaggle.com/alexisbcook/conditions-and-conditional-statements)**."
   ]
  },
  {
   "cell_type": "markdown",
   "id": "a02bc83a",
   "metadata": {
    "papermill": {
     "duration": 0.012062,
     "end_time": "2023-11-10T12:09:04.641905",
     "exception": false,
     "start_time": "2023-11-10T12:09:04.629843",
     "status": "completed"
    },
    "tags": []
   },
   "source": [
    "---\n",
    "\n",
    "\n",
    "\n",
    "\n",
    "*Have questions or comments? Visit the [course discussion forum](https://www.kaggle.com/learn/intro-to-programming/discussion) to chat with other learners.*"
   ]
  }
 ],
 "metadata": {
  "kernelspec": {
   "display_name": "Python 3",
   "language": "python",
   "name": "python3"
  },
  "language_info": {
   "codemirror_mode": {
    "name": "ipython",
    "version": 3
   },
   "file_extension": ".py",
   "mimetype": "text/x-python",
   "name": "python",
   "nbconvert_exporter": "python",
   "pygments_lexer": "ipython3",
   "version": "3.10.12"
  },
  "papermill": {
   "default_parameters": {},
   "duration": 5.296092,
   "end_time": "2023-11-10T12:09:05.174513",
   "environment_variables": {},
   "exception": null,
   "input_path": "__notebook__.ipynb",
   "output_path": "__notebook__.ipynb",
   "parameters": {},
   "start_time": "2023-11-10T12:08:59.878421",
   "version": "2.4.0"
  }
 },
 "nbformat": 4,
 "nbformat_minor": 5
}
