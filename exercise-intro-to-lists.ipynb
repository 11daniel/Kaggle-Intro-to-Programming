{
 "cells": [
  {
   "cell_type": "markdown",
   "id": "4c0e7a08",
   "metadata": {
    "papermill": {
     "duration": 0.007851,
     "end_time": "2023-07-11T08:12:51.715279",
     "exception": false,
     "start_time": "2023-07-11T08:12:51.707428",
     "status": "completed"
    },
    "tags": []
   },
   "source": [
    "**This notebook is an exercise in the [Intro to Programming](https://www.kaggle.com/learn/intro-to-programming) course.  You can reference the tutorial at [this link](https://www.kaggle.com/alexisbcook/intro-to-lists).**\n",
    "\n",
    "---\n"
   ]
  },
  {
   "cell_type": "markdown",
   "id": "7b6bcfbc",
   "metadata": {
    "papermill": {
     "duration": 0.007038,
     "end_time": "2023-07-11T08:12:51.729807",
     "exception": false,
     "start_time": "2023-07-11T08:12:51.722769",
     "status": "completed"
    },
    "tags": []
   },
   "source": [
    "In the tutorial, you learned how to define and modify Python lists.  In this exercise, you will use your new knowledge to solve several problems.\n",
    "\n",
    "# Set up the notebook\n",
    "\n",
    "Run the next code cell without changes to set up the notebook."
   ]
  },
  {
   "cell_type": "code",
   "execution_count": 1,
   "id": "93627c5c",
   "metadata": {
    "execution": {
     "iopub.execute_input": "2023-07-11T08:12:51.746657Z",
     "iopub.status.busy": "2023-07-11T08:12:51.746222Z",
     "iopub.status.idle": "2023-07-11T08:12:51.804217Z",
     "shell.execute_reply": "2023-07-11T08:12:51.802988Z"
    },
    "papermill": {
     "duration": 0.069338,
     "end_time": "2023-07-11T08:12:51.807089",
     "exception": false,
     "start_time": "2023-07-11T08:12:51.737751",
     "status": "completed"
    },
    "tags": []
   },
   "outputs": [
    {
     "name": "stdout",
     "output_type": "stream",
     "text": [
      "Setup complete.\n"
     ]
    }
   ],
   "source": [
    "from learntools.core import binder\n",
    "binder.bind(globals())\n",
    "from learntools.intro_to_programming.ex5 import *\n",
    "print('Setup complete.')"
   ]
  },
  {
   "cell_type": "markdown",
   "id": "87e4c5df",
   "metadata": {
    "papermill": {
     "duration": 0.007304,
     "end_time": "2023-07-11T08:12:51.822988",
     "exception": false,
     "start_time": "2023-07-11T08:12:51.815684",
     "status": "completed"
    },
    "tags": []
   },
   "source": [
    "# Question 1\n",
    "\n",
    "You own a restaurant with five food dishes, organized in the Python list `menu` below.  One day, you decide to:\n",
    "- remove bean soup (`'bean soup'`) from the menu, and\n",
    "- add roasted beet salad (`'roasted beet salad'`) to the menu.\n",
    "\n",
    "Implement this change to the list below.  While completing this task, \n",
    "- do not change the line that creates the `menu` list.  \n",
    "- your answer should use `.remove()` and `.append()`.  "
   ]
  },
  {
   "cell_type": "code",
   "execution_count": 2,
   "id": "b3c7f402",
   "metadata": {
    "execution": {
     "iopub.execute_input": "2023-07-11T08:12:51.841335Z",
     "iopub.status.busy": "2023-07-11T08:12:51.840631Z",
     "iopub.status.idle": "2023-07-11T08:12:51.853798Z",
     "shell.execute_reply": "2023-07-11T08:12:51.852032Z"
    },
    "papermill": {
     "duration": 0.025586,
     "end_time": "2023-07-11T08:12:51.856438",
     "exception": false,
     "start_time": "2023-07-11T08:12:51.830852",
     "status": "completed"
    },
    "tags": []
   },
   "outputs": [
    {
     "data": {
      "application/javascript": [
       "parent.postMessage({\"jupyterEvent\": \"custom.exercise_interaction\", \"data\": {\"outcomeType\": 1, \"valueTowardsCompletion\": 0.2, \"interactionType\": 1, \"questionType\": 2, \"questionId\": \"1_FoodMenu\", \"learnToolsVersion\": \"0.3.4\", \"failureMessage\": \"\", \"exceptionClass\": \"\", \"trace\": \"\"}}, \"*\")"
      ],
      "text/plain": [
       "<IPython.core.display.Javascript object>"
      ]
     },
     "metadata": {},
     "output_type": "display_data"
    },
    {
     "data": {
      "text/markdown": [
       "<span style=\"color:#33cc33\">Correct</span>"
      ],
      "text/plain": [
       "Correct"
      ]
     },
     "metadata": {},
     "output_type": "display_data"
    }
   ],
   "source": [
    "# Do not change: Initial menu for your restaurant\n",
    "menu = ['stewed meat with onions', 'bean soup', 'risotto with trout and shrimp',\n",
    "       'fish soup with cream and onion', 'gyro']\n",
    "\n",
    "# TODO: remove 'bean soup', and add 'roasted beet salad' to the end of the menu\n",
    "menu.remove('bean soup')\n",
    "menu.append('roasted beet salad')\n",
    "\n",
    "# Do not change: Check your answer\n",
    "q1.check()"
   ]
  },
  {
   "cell_type": "code",
   "execution_count": 3,
   "id": "34bd8ec7",
   "metadata": {
    "execution": {
     "iopub.execute_input": "2023-07-11T08:12:51.874664Z",
     "iopub.status.busy": "2023-07-11T08:12:51.874228Z",
     "iopub.status.idle": "2023-07-11T08:12:51.879583Z",
     "shell.execute_reply": "2023-07-11T08:12:51.878329Z"
    },
    "papermill": {
     "duration": 0.017827,
     "end_time": "2023-07-11T08:12:51.882376",
     "exception": false,
     "start_time": "2023-07-11T08:12:51.864549",
     "status": "completed"
    },
    "tags": []
   },
   "outputs": [],
   "source": [
    "# Uncomment to see a hint\n",
    "#q1.hint()\n",
    "\n",
    "# Uncomment to see the solution\n",
    "#q1.solution()"
   ]
  },
  {
   "cell_type": "markdown",
   "id": "d5349534",
   "metadata": {
    "papermill": {
     "duration": 0.008452,
     "end_time": "2023-07-11T08:12:51.899595",
     "exception": false,
     "start_time": "2023-07-11T08:12:51.891143",
     "status": "completed"
    },
    "tags": []
   },
   "source": [
    "# Question 2\n",
    "\n",
    "The list `num_customers` contains the number of customers who came into your restaurant every day over the last month (which lasted thirty days).  Fill in values for each of the following:\n",
    "- `avg_first_seven` - average number of customers who visited in the first seven days\n",
    "- `avg_last_seven` - average number of customers who visited in the last seven days\n",
    "- `max_month` - number of customers on the day that got the most customers in the last month\n",
    "- `min_month` - number of customers on the day that got the least customers in the last month\n",
    "\n",
    "Answer this question by writing code.  For instance, if you have to find the minimum value in a list, use `min()` instead of scanning for the smallest value and directly filling in a number."
   ]
  },
  {
   "cell_type": "code",
   "execution_count": 4,
   "id": "d7789155",
   "metadata": {
    "execution": {
     "iopub.execute_input": "2023-07-11T08:12:51.919140Z",
     "iopub.status.busy": "2023-07-11T08:12:51.918739Z",
     "iopub.status.idle": "2023-07-11T08:12:51.930962Z",
     "shell.execute_reply": "2023-07-11T08:12:51.929858Z"
    },
    "papermill": {
     "duration": 0.025572,
     "end_time": "2023-07-11T08:12:51.933286",
     "exception": false,
     "start_time": "2023-07-11T08:12:51.907714",
     "status": "completed"
    },
    "tags": []
   },
   "outputs": [
    {
     "data": {
      "application/javascript": [
       "parent.postMessage({\"jupyterEvent\": \"custom.exercise_interaction\", \"data\": {\"outcomeType\": 1, \"valueTowardsCompletion\": 0.2, \"interactionType\": 1, \"questionType\": 1, \"questionId\": \"2_NumCustomers\", \"learnToolsVersion\": \"0.3.4\", \"failureMessage\": \"\", \"exceptionClass\": \"\", \"trace\": \"\"}}, \"*\")"
      ],
      "text/plain": [
       "<IPython.core.display.Javascript object>"
      ]
     },
     "metadata": {},
     "output_type": "display_data"
    },
    {
     "data": {
      "text/markdown": [
       "<span style=\"color:#33cc33\">Correct</span>"
      ],
      "text/plain": [
       "Correct"
      ]
     },
     "metadata": {},
     "output_type": "display_data"
    }
   ],
   "source": [
    "# Do not change: Number of customers each day for the last month\n",
    "num_customers = [137, 147, 135, 128, 170, 174, 165, 146, 126, 159,\n",
    "                 141, 148, 132, 147, 168, 153, 170, 161, 148, 152,\n",
    "                 141, 151, 131, 149, 164, 163, 143, 143, 166, 171]\n",
    "\n",
    "# TODO: Fill in values for the variables below\n",
    "avg_first_seven = sum(num_customers[:7])/7 \n",
    "avg_last_seven = sum(num_customers[-7:])/7\n",
    "max_month = max(num_customers)\n",
    "min_month = min(num_customers)\n",
    "\n",
    "# Do not change: Check your answer\n",
    "q2.check()"
   ]
  },
  {
   "cell_type": "code",
   "execution_count": 5,
   "id": "8e058c4a",
   "metadata": {
    "execution": {
     "iopub.execute_input": "2023-07-11T08:12:51.952931Z",
     "iopub.status.busy": "2023-07-11T08:12:51.952128Z",
     "iopub.status.idle": "2023-07-11T08:12:51.957903Z",
     "shell.execute_reply": "2023-07-11T08:12:51.956496Z"
    },
    "papermill": {
     "duration": 0.018523,
     "end_time": "2023-07-11T08:12:51.960243",
     "exception": false,
     "start_time": "2023-07-11T08:12:51.941720",
     "status": "completed"
    },
    "tags": []
   },
   "outputs": [],
   "source": [
    "# Uncomment to see a hint\n",
    "#q2.hint()\n",
    "\n",
    "# Uncomment to see the solution\n",
    "#q2.solution()"
   ]
  },
  {
   "cell_type": "markdown",
   "id": "49f54b84",
   "metadata": {
    "papermill": {
     "duration": 0.008278,
     "end_time": "2023-07-11T08:12:51.977143",
     "exception": false,
     "start_time": "2023-07-11T08:12:51.968865",
     "status": "completed"
    },
    "tags": []
   },
   "source": [
    "# Question 3\n",
    "\n",
    "In the tutorial, we gave an example of a Python string with information that was better as a list."
   ]
  },
  {
   "cell_type": "code",
   "execution_count": 6,
   "id": "d491483b",
   "metadata": {
    "execution": {
     "iopub.execute_input": "2023-07-11T08:12:51.996251Z",
     "iopub.status.busy": "2023-07-11T08:12:51.995804Z",
     "iopub.status.idle": "2023-07-11T08:12:52.001709Z",
     "shell.execute_reply": "2023-07-11T08:12:52.000319Z"
    },
    "papermill": {
     "duration": 0.019029,
     "end_time": "2023-07-11T08:12:52.004837",
     "exception": false,
     "start_time": "2023-07-11T08:12:51.985808",
     "status": "completed"
    },
    "tags": []
   },
   "outputs": [],
   "source": [
    "flowers = \"pink primrose,hard-leaved pocket orchid,canterbury bells,sweet pea,english marigold,tiger lily,moon orchid,bird of paradise,monkshood,globe thistle\""
   ]
  },
  {
   "cell_type": "markdown",
   "id": "26a8aab0",
   "metadata": {
    "papermill": {
     "duration": 0.00835,
     "end_time": "2023-07-11T08:12:52.023795",
     "exception": false,
     "start_time": "2023-07-11T08:12:52.015445",
     "status": "completed"
    },
    "tags": []
   },
   "source": [
    "You can actually use Python to quickly turn this string into a list with `.split()`.  In the parentheses, we need to provide the character should be used to mark the end of one list item and the beginning of another, and enclose it in quotation marks.  In this case, that character is a comma."
   ]
  },
  {
   "cell_type": "code",
   "execution_count": 7,
   "id": "3fd29efc",
   "metadata": {
    "execution": {
     "iopub.execute_input": "2023-07-11T08:12:52.043001Z",
     "iopub.status.busy": "2023-07-11T08:12:52.042576Z",
     "iopub.status.idle": "2023-07-11T08:12:52.048310Z",
     "shell.execute_reply": "2023-07-11T08:12:52.047136Z"
    },
    "papermill": {
     "duration": 0.018493,
     "end_time": "2023-07-11T08:12:52.050789",
     "exception": false,
     "start_time": "2023-07-11T08:12:52.032296",
     "status": "completed"
    },
    "tags": []
   },
   "outputs": [
    {
     "name": "stdout",
     "output_type": "stream",
     "text": [
      "['pink primrose', 'hard-leaved pocket orchid', 'canterbury bells', 'sweet pea', 'english marigold', 'tiger lily', 'moon orchid', 'bird of paradise', 'monkshood', 'globe thistle']\n"
     ]
    }
   ],
   "source": [
    " print(flowers.split(\",\"))"
   ]
  },
  {
   "cell_type": "markdown",
   "id": "ce08451b",
   "metadata": {
    "papermill": {
     "duration": 0.008292,
     "end_time": "2023-07-11T08:12:52.068014",
     "exception": false,
     "start_time": "2023-07-11T08:12:52.059722",
     "status": "completed"
    },
    "tags": []
   },
   "source": [
    "Now it is your turn to try this out!  Create two Python lists:\n",
    "- `letters` should be a Python list where each entry is an uppercase letter of the English alphabet.  For instance, the first two entries should be `\"A\"` and `\"B\"`, and the final two entries should be `\"Y\"` and `\"Z\"`.  Use the string `alphabet` to create this list.\n",
    "- `address` should be a Python list where each row in `address` is a different item in the list.  Currently, each row in `address` is separated by a comma. "
   ]
  },
  {
   "cell_type": "code",
   "execution_count": 8,
   "id": "f2284f58",
   "metadata": {
    "execution": {
     "iopub.execute_input": "2023-07-11T08:12:52.087983Z",
     "iopub.status.busy": "2023-07-11T08:12:52.087560Z",
     "iopub.status.idle": "2023-07-11T08:12:52.097901Z",
     "shell.execute_reply": "2023-07-11T08:12:52.096851Z"
    },
    "papermill": {
     "duration": 0.02333,
     "end_time": "2023-07-11T08:12:52.100463",
     "exception": false,
     "start_time": "2023-07-11T08:12:52.077133",
     "status": "completed"
    },
    "tags": []
   },
   "outputs": [
    {
     "data": {
      "application/javascript": [
       "parent.postMessage({\"jupyterEvent\": \"custom.exercise_interaction\", \"data\": {\"outcomeType\": 1, \"valueTowardsCompletion\": 0.2, \"interactionType\": 1, \"questionType\": 1, \"questionId\": \"3_SplitString\", \"learnToolsVersion\": \"0.3.4\", \"failureMessage\": \"\", \"exceptionClass\": \"\", \"trace\": \"\"}}, \"*\")"
      ],
      "text/plain": [
       "<IPython.core.display.Javascript object>"
      ]
     },
     "metadata": {},
     "output_type": "display_data"
    },
    {
     "data": {
      "text/markdown": [
       "<span style=\"color:#33cc33\">Correct</span>"
      ],
      "text/plain": [
       "Correct"
      ]
     },
     "metadata": {},
     "output_type": "display_data"
    }
   ],
   "source": [
    "# DO not change: Define two Python strings\n",
    "alphabet = \"A.B.C.D.E.F.G.H.I.J.K.L.M.N.O.P.Q.R.S.T.U.V.W.X.Y.Z\"\n",
    "address = \"Mr. H. Potter,The cupboard under the Stairs,4 Privet Drive,Little Whinging,Surrey\"\n",
    "\n",
    "# TODO: Convert strings into Python lists\n",
    "letters = alphabet.split(\".\")\n",
    "formatted_address = address.split(\",\")\n",
    "\n",
    "# Do not change: Check your answer\n",
    "q3.check()"
   ]
  },
  {
   "cell_type": "code",
   "execution_count": 9,
   "id": "d2a4f8b1",
   "metadata": {
    "execution": {
     "iopub.execute_input": "2023-07-11T08:12:52.123395Z",
     "iopub.status.busy": "2023-07-11T08:12:52.122986Z",
     "iopub.status.idle": "2023-07-11T08:12:52.127423Z",
     "shell.execute_reply": "2023-07-11T08:12:52.126323Z"
    },
    "papermill": {
     "duration": 0.017908,
     "end_time": "2023-07-11T08:12:52.129599",
     "exception": false,
     "start_time": "2023-07-11T08:12:52.111691",
     "status": "completed"
    },
    "tags": []
   },
   "outputs": [],
   "source": [
    "# Uncomment to see a hint\n",
    "#q3.hint()\n",
    "\n",
    "# Uncomment to see the solution\n",
    "#q3.solution()"
   ]
  },
  {
   "cell_type": "markdown",
   "id": "eeefe633",
   "metadata": {
    "papermill": {
     "duration": 0.009129,
     "end_time": "2023-07-11T08:12:52.148019",
     "exception": false,
     "start_time": "2023-07-11T08:12:52.138890",
     "status": "completed"
    },
    "tags": []
   },
   "source": [
    "# Question 4\n",
    "\n",
    "In the Python course, you'll learn all about **list comprehensions**, which allow you to create a list based on the values in another list.  In this question, you'll get a brief preview of how they work.\n",
    "\n",
    "Say we're working with the list below."
   ]
  },
  {
   "cell_type": "code",
   "execution_count": 10,
   "id": "416c9aca",
   "metadata": {
    "execution": {
     "iopub.execute_input": "2023-07-11T08:12:52.167939Z",
     "iopub.status.busy": "2023-07-11T08:12:52.167542Z",
     "iopub.status.idle": "2023-07-11T08:12:52.173005Z",
     "shell.execute_reply": "2023-07-11T08:12:52.171838Z"
    },
    "papermill": {
     "duration": 0.018079,
     "end_time": "2023-07-11T08:12:52.175238",
     "exception": false,
     "start_time": "2023-07-11T08:12:52.157159",
     "status": "completed"
    },
    "tags": []
   },
   "outputs": [],
   "source": [
    "test_ratings = [1, 2, 3, 4, 5]"
   ]
  },
  {
   "cell_type": "markdown",
   "id": "9a10cf56",
   "metadata": {
    "papermill": {
     "duration": 0.00911,
     "end_time": "2023-07-11T08:12:52.193660",
     "exception": false,
     "start_time": "2023-07-11T08:12:52.184550",
     "status": "completed"
    },
    "tags": []
   },
   "source": [
    "Then we can use this list (`test_ratings`) to create a new list (`test_liked`) where each item has been turned into a boolean, depending on whether or not the item is greater than or equal to four."
   ]
  },
  {
   "cell_type": "code",
   "execution_count": 11,
   "id": "13ab68da",
   "metadata": {
    "execution": {
     "iopub.execute_input": "2023-07-11T08:12:52.213867Z",
     "iopub.status.busy": "2023-07-11T08:12:52.213444Z",
     "iopub.status.idle": "2023-07-11T08:12:52.219928Z",
     "shell.execute_reply": "2023-07-11T08:12:52.218670Z"
    },
    "papermill": {
     "duration": 0.019678,
     "end_time": "2023-07-11T08:12:52.222486",
     "exception": false,
     "start_time": "2023-07-11T08:12:52.202808",
     "status": "completed"
    },
    "tags": []
   },
   "outputs": [
    {
     "name": "stdout",
     "output_type": "stream",
     "text": [
      "[False, False, False, True, True]\n"
     ]
    }
   ],
   "source": [
    "test_liked = [i>=4 for i in test_ratings]\n",
    "print(test_liked)"
   ]
  },
  {
   "cell_type": "markdown",
   "id": "8fa217fe",
   "metadata": {
    "papermill": {
     "duration": 0.009069,
     "end_time": "2023-07-11T08:12:52.241104",
     "exception": false,
     "start_time": "2023-07-11T08:12:52.232035",
     "status": "completed"
    },
    "tags": []
   },
   "source": [
    "In this question, you'll use this list comprehension to define a function `percentage_liked()` that takes one argument as input:\n",
    "- `ratings`: list of ratings that people gave to a movie, where each rating is a number between 1-5, inclusive\n",
    "\n",
    "We say someone liked the movie, if they gave a rating of either 4 or 5.  Your function should return the percentage of people who liked the movie.\n",
    "\n",
    "For instance, if we supply a value of `[1, 2, 3, 4, 5, 4, 5, 1]`, then 50% (4/8) of the people liked the movie, and the function should return `0.5`.\n",
    "\n",
    "Part of the function has already been completed for you.  You need only use `list_liked` to calculate `percentage_liked`."
   ]
  },
  {
   "cell_type": "code",
   "execution_count": 12,
   "id": "a60cad6a",
   "metadata": {
    "execution": {
     "iopub.execute_input": "2023-07-11T08:12:52.261603Z",
     "iopub.status.busy": "2023-07-11T08:12:52.261144Z",
     "iopub.status.idle": "2023-07-11T08:12:52.272314Z",
     "shell.execute_reply": "2023-07-11T08:12:52.271147Z"
    },
    "papermill": {
     "duration": 0.02436,
     "end_time": "2023-07-11T08:12:52.274781",
     "exception": false,
     "start_time": "2023-07-11T08:12:52.250421",
     "status": "completed"
    },
    "tags": []
   },
   "outputs": [
    {
     "data": {
      "application/javascript": [
       "parent.postMessage({\"jupyterEvent\": \"custom.exercise_interaction\", \"data\": {\"outcomeType\": 1, \"valueTowardsCompletion\": 0.2, \"interactionType\": 1, \"questionType\": 2, \"questionId\": \"4_PercentageLiked\", \"learnToolsVersion\": \"0.3.4\", \"failureMessage\": \"\", \"exceptionClass\": \"\", \"trace\": \"\"}}, \"*\")"
      ],
      "text/plain": [
       "<IPython.core.display.Javascript object>"
      ]
     },
     "metadata": {},
     "output_type": "display_data"
    },
    {
     "data": {
      "text/markdown": [
       "<span style=\"color:#33cc33\">Correct</span>"
      ],
      "text/plain": [
       "Correct"
      ]
     },
     "metadata": {},
     "output_type": "display_data"
    }
   ],
   "source": [
    "\n",
    "def percentage_liked(ratings):\n",
    "    list_liked = [i>=4 for i in ratings]\n",
    "    # TODO: Complete the function\n",
    "    percentage_liked = sum(list_liked)/len(list_liked)\n",
    "    return percentage_liked\n",
    "\n",
    "# Do not change: should return 0.5\n",
    "percentage_liked([1, 2, 3, 4, 5, 4, 5, 1])\n",
    "\n",
    "# Do not change: Check your answer\n",
    "q4.check()"
   ]
  },
  {
   "cell_type": "code",
   "execution_count": 13,
   "id": "abaffcfd",
   "metadata": {
    "execution": {
     "iopub.execute_input": "2023-07-11T08:12:52.296958Z",
     "iopub.status.busy": "2023-07-11T08:12:52.296574Z",
     "iopub.status.idle": "2023-07-11T08:12:52.306081Z",
     "shell.execute_reply": "2023-07-11T08:12:52.304688Z"
    },
    "papermill": {
     "duration": 0.024269,
     "end_time": "2023-07-11T08:12:52.308781",
     "exception": false,
     "start_time": "2023-07-11T08:12:52.284512",
     "status": "completed"
    },
    "tags": []
   },
   "outputs": [
    {
     "data": {
      "application/javascript": [
       "parent.postMessage({\"jupyterEvent\": \"custom.exercise_interaction\", \"data\": {\"interactionType\": 3, \"questionType\": 2, \"questionId\": \"4_PercentageLiked\", \"learnToolsVersion\": \"0.3.4\", \"valueTowardsCompletion\": 0.0, \"failureMessage\": \"\", \"exceptionClass\": \"\", \"trace\": \"\", \"outcomeType\": 4}}, \"*\")"
      ],
      "text/plain": [
       "<IPython.core.display.Javascript object>"
      ]
     },
     "metadata": {},
     "output_type": "display_data"
    },
    {
     "data": {
      "text/markdown": [
       "<span style=\"color:#33cc99\">Solution:</span> \n",
       "```python\n",
       "\n",
       "# Complete the function\n",
       "def percentage_liked(ratings):\n",
       "    list_liked = [i >= 4 for i in ratings]\n",
       "    percentage_liked = sum(list_liked)/len(list_liked)\n",
       "    return percentage_liked\n",
       "\n",
       "```"
      ],
      "text/plain": [
       "Solution: \n",
       "```python\n",
       "\n",
       "# Complete the function\n",
       "def percentage_liked(ratings):\n",
       "    list_liked = [i >= 4 for i in ratings]\n",
       "    percentage_liked = sum(list_liked)/len(list_liked)\n",
       "    return percentage_liked\n",
       "\n",
       "```"
      ]
     },
     "metadata": {},
     "output_type": "display_data"
    }
   ],
   "source": [
    "# Uncomment to see a hint\n",
    "#q4.hint()\n",
    "\n",
    "# Uncomment to see the solution\n",
    "q4.solution()"
   ]
  },
  {
   "cell_type": "markdown",
   "id": "4928c6a4",
   "metadata": {
    "papermill": {
     "duration": 0.010318,
     "end_time": "2023-07-11T08:12:52.329316",
     "exception": false,
     "start_time": "2023-07-11T08:12:52.318998",
     "status": "completed"
    },
    "tags": []
   },
   "source": [
    "# 🌶️ Question 5\n",
    " \n",
    "Say you're doing analytics for a website.  You need to write a function that returns the percentage growth in the total number of users relative to a specified number of years ago.\n",
    "\n",
    "Your function `percentage_growth()` should take two arguments as input:\n",
    "- `num_users` = Python list with the total number of users each year.  So `num_users[0]` is the total number of users in the first year, `num_users[1]` is the total number of users in the second year, and so on.  The final entry in the list gives the total number of users in the most recently completed year.\n",
    "- `yrs_ago` = number of years to go back in time when calculating the growth percentage\n",
    "\n",
    "For instance, say `num_users = [920344, 1043553, 1204334, 1458996, 1503323, 1593432, 1623463, 1843064, 1930992, 2001078]`.\n",
    "- if `yrs_ago = 1`, we want the function to return a value of about `0.036`. This corresponds to a percentage growth of approximately 3.6%, calculated as (2001078 - 1930992)/1930992.\n",
    "- if `years_ago = 7`, we would want to return approximately `0.66`.  This corresponds to a percentage growth of approximately 66%, calculated as (2001078 - 1204334)/1204334.\n",
    "\n",
    "Your coworker sent you a draft of a function, but it doesn't seem to be doing the correct calculation.  Can you figure out what has gone wrong and make the needed changes?"
   ]
  },
  {
   "cell_type": "code",
   "execution_count": 14,
   "id": "867e80e9",
   "metadata": {
    "execution": {
     "iopub.execute_input": "2023-07-11T08:12:52.351851Z",
     "iopub.status.busy": "2023-07-11T08:12:52.351448Z",
     "iopub.status.idle": "2023-07-11T08:12:52.364329Z",
     "shell.execute_reply": "2023-07-11T08:12:52.363139Z"
    },
    "papermill": {
     "duration": 0.027134,
     "end_time": "2023-07-11T08:12:52.366868",
     "exception": false,
     "start_time": "2023-07-11T08:12:52.339734",
     "status": "completed"
    },
    "tags": []
   },
   "outputs": [
    {
     "name": "stdout",
     "output_type": "stream",
     "text": [
      "0.03629533421163837\n",
      "0.6615639847417742\n"
     ]
    },
    {
     "data": {
      "application/javascript": [
       "parent.postMessage({\"jupyterEvent\": \"custom.exercise_interaction\", \"data\": {\"outcomeType\": 1, \"valueTowardsCompletion\": 0.2, \"interactionType\": 1, \"questionType\": 2, \"questionId\": \"5_WebsiteAnalytics\", \"learnToolsVersion\": \"0.3.4\", \"failureMessage\": \"\", \"exceptionClass\": \"\", \"trace\": \"\"}}, \"*\")"
      ],
      "text/plain": [
       "<IPython.core.display.Javascript object>"
      ]
     },
     "metadata": {},
     "output_type": "display_data"
    },
    {
     "data": {
      "text/markdown": [
       "<span style=\"color:#33cc33\">Correct</span>"
      ],
      "text/plain": [
       "Correct"
      ]
     },
     "metadata": {},
     "output_type": "display_data"
    }
   ],
   "source": [
    "# TODO: Edit the function\n",
    "def percentage_growth(num_users, yrs_ago):\n",
    "    growth = (num_users[len(num_users)-1] - num_users[len(num_users)-yrs_ago-1])/num_users[len(num_users)-yrs_ago-1]\n",
    "    return growth\n",
    "\n",
    "# Do not change: Variable for calculating some test examples\n",
    "num_users_test = [920344, 1043553, 1204334, 1458996, 1503323, 1593432, 1623463, 1843064, 1930992, 2001078]\n",
    "\n",
    "# Do not change: Should return .036\n",
    "print(percentage_growth(num_users_test, 1))\n",
    "\n",
    "# Do not change: Should return 0.66\n",
    "print(percentage_growth(num_users_test, 7))\n",
    "\n",
    "# Do not change: Check your answer\n",
    "q5.check()"
   ]
  },
  {
   "cell_type": "code",
   "execution_count": 15,
   "id": "5769521d",
   "metadata": {
    "execution": {
     "iopub.execute_input": "2023-07-11T08:12:52.390269Z",
     "iopub.status.busy": "2023-07-11T08:12:52.389878Z",
     "iopub.status.idle": "2023-07-11T08:12:52.399955Z",
     "shell.execute_reply": "2023-07-11T08:12:52.398745Z"
    },
    "papermill": {
     "duration": 0.02484,
     "end_time": "2023-07-11T08:12:52.402520",
     "exception": false,
     "start_time": "2023-07-11T08:12:52.377680",
     "status": "completed"
    },
    "tags": []
   },
   "outputs": [
    {
     "data": {
      "application/javascript": [
       "parent.postMessage({\"jupyterEvent\": \"custom.exercise_interaction\", \"data\": {\"interactionType\": 3, \"questionType\": 2, \"questionId\": \"5_WebsiteAnalytics\", \"learnToolsVersion\": \"0.3.4\", \"valueTowardsCompletion\": 0.0, \"failureMessage\": \"\", \"exceptionClass\": \"\", \"trace\": \"\", \"outcomeType\": 4}}, \"*\")"
      ],
      "text/plain": [
       "<IPython.core.display.Javascript object>"
      ]
     },
     "metadata": {},
     "output_type": "display_data"
    },
    {
     "data": {
      "text/markdown": [
       "<span style=\"color:#33cc99\">Solution:</span> \n",
       "```python\n",
       "def percentage_growth(num_users, yrs_ago):\n",
       "    growth = (num_users[len(num_users)-1] - num_users[len(num_users)-yrs_ago-1])/num_users[len(num_users)-yrs_ago-1]\n",
       "    return growth\n",
       "\n",
       "```"
      ],
      "text/plain": [
       "Solution: \n",
       "```python\n",
       "def percentage_growth(num_users, yrs_ago):\n",
       "    growth = (num_users[len(num_users)-1] - num_users[len(num_users)-yrs_ago-1])/num_users[len(num_users)-yrs_ago-1]\n",
       "    return growth\n",
       "\n",
       "```"
      ]
     },
     "metadata": {},
     "output_type": "display_data"
    }
   ],
   "source": [
    "# Uncomment to see a hint\n",
    "#q5.hint()\n",
    "\n",
    "# Uncomment to see the solution\n",
    "q5.solution()"
   ]
  },
  {
   "cell_type": "markdown",
   "id": "00131cbc",
   "metadata": {
    "papermill": {
     "duration": 0.010831,
     "end_time": "2023-07-11T08:12:52.424600",
     "exception": false,
     "start_time": "2023-07-11T08:12:52.413769",
     "status": "completed"
    },
    "tags": []
   },
   "source": [
    "# Congratulations!\n",
    "\n",
    "Congratulations for finishing the Intro to Programming course!  You should be proud of your very first steps with learning programming.  As next steps, we recommend taking:\n",
    "- the **[Python course](http://www.kaggle.com/learn/python)**, and \n",
    "- the **[Intro to Machine Learning course](https://www.kaggle.com/learn/intro-to-machine-learning)**."
   ]
  },
  {
   "cell_type": "markdown",
   "id": "04427458",
   "metadata": {
    "papermill": {
     "duration": 0.010747,
     "end_time": "2023-07-11T08:12:52.446547",
     "exception": false,
     "start_time": "2023-07-11T08:12:52.435800",
     "status": "completed"
    },
    "tags": []
   },
   "source": [
    "---\n",
    "\n",
    "\n",
    "\n",
    "\n",
    "*Have questions or comments? Visit the [course discussion forum](https://www.kaggle.com/learn/intro-to-programming/discussion) to chat with other learners.*"
   ]
  }
 ],
 "metadata": {
  "kernelspec": {
   "display_name": "Python 3",
   "language": "python",
   "name": "python3"
  },
  "language_info": {
   "codemirror_mode": {
    "name": "ipython",
    "version": 3
   },
   "file_extension": ".py",
   "mimetype": "text/x-python",
   "name": "python",
   "nbconvert_exporter": "python",
   "pygments_lexer": "ipython3",
   "version": "3.10.12"
  },
  "papermill": {
   "default_parameters": {},
   "duration": 13.851557,
   "end_time": "2023-07-11T08:12:53.381540",
   "environment_variables": {},
   "exception": null,
   "input_path": "__notebook__.ipynb",
   "output_path": "__notebook__.ipynb",
   "parameters": {},
   "start_time": "2023-07-11T08:12:39.529983",
   "version": "2.4.0"
  }
 },
 "nbformat": 4,
 "nbformat_minor": 5
}
